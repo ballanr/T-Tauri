{
 "cells": [
  {
   "cell_type": "markdown",
   "metadata": {},
   "source": [
    "## Br11 Function"
   ]
  },
  {
   "cell_type": "code",
   "execution_count": 1,
   "metadata": {
    "collapsed": true
   },
   "outputs": [],
   "source": [
    "#Import tools\n",
    "import apogee.tools.read as apread\n",
    "import apogee.spec.plot as splot\n",
    "import numpy as np\n",
    "import matplotlib.pyplot as plt\n",
    "%matplotlib inline\n",
    "Lambda = splot.apStarWavegrid()"
   ]
  },
  {
   "cell_type": "code",
   "execution_count": 2,
   "metadata": {
    "collapsed": true
   },
   "outputs": [],
   "source": [
    "#Input 2M number and find associated 4 digit ID"
   ]
  },
  {
   "cell_type": "code",
   "execution_count": 3,
   "metadata": {
    "collapsed": true
   },
   "outputs": [],
   "source": [
    "#Use the ID to find the right .fits file"
   ]
  },
  {
   "cell_type": "code",
   "execution_count": 4,
   "metadata": {
    "collapsed": true
   },
   "outputs": [],
   "source": [
    "#Calculate number of visits"
   ]
  },
  {
   "cell_type": "code",
   "execution_count": 5,
   "metadata": {
    "collapsed": true
   },
   "outputs": [],
   "source": [
    "#Read in APOGEE Spectrum\n",
    "visit1 = 1\n",
    "spec1= apread.apStar(4586,'2M03434449+3143092',ext=1,header=False)[1 + visit1]"
   ]
  },
  {
   "cell_type": "code",
   "execution_count": 6,
   "metadata": {
    "collapsed": true
   },
   "outputs": [],
   "source": [
    "#Plot all visits and zoom in around Br11"
   ]
  },
  {
   "cell_type": "code",
   "execution_count": 7,
   "metadata": {
    "collapsed": true
   },
   "outputs": [],
   "source": [
    "#Average all visits together"
   ]
  },
  {
   "cell_type": "code",
   "execution_count": 8,
   "metadata": {
    "collapsed": true
   },
   "outputs": [],
   "source": [
    "#Find peak of shifted Br11 emission"
   ]
  },
  {
   "cell_type": "code",
   "execution_count": 9,
   "metadata": {
    "collapsed": true
   },
   "outputs": [],
   "source": [
    "#Calculate Fc\n",
    "lsum= np.sum(spec1[7545:7590])/ len(spec1[7545:7590])\n",
    "rsum = np.sum(spec1[7719:7762])/len(spec1[7719:7762])\n",
    "Fc= (lsum+rsum)/2"
   ]
  },
  {
   "cell_type": "code",
   "execution_count": 10,
   "metadata": {
    "collapsed": false
   },
   "outputs": [
    {
     "data": {
      "text/plain": [
       "24954.667827939211"
      ]
     },
     "execution_count": 10,
     "metadata": {},
     "output_type": "execute_result"
    }
   ],
   "source": [
    "#Calculate Flambda\n",
    "Flambda=0\n",
    "for i in range(7590,7719):\n",
    "    segarea= (1./2.)*(Lambda[i+1]-Lambda[i])*(spec1[i+1]+spec1[i])\n",
    "    Flambda = Flambda + segarea\n",
    "Flambda"
   ]
  },
  {
   "cell_type": "code",
   "execution_count": 11,
   "metadata": {
    "collapsed": true
   },
   "outputs": [],
   "source": [
    "#Calculate Equivalent Width\n",
    "EqW= abs((Fc-Flambda)/Fc)\n",
    "\n",
    "upper = Lambda[7650]+(EqW/2)\n",
    "lower = Lambda[7650]-(EqW/2)"
   ]
  },
  {
   "cell_type": "code",
   "execution_count": 13,
   "metadata": {
    "collapsed": false
   },
   "outputs": [
    {
     "data": {
      "image/png": "[encoded data removed]",
      "text/plain": [
       "<matplotlib.figure.Figure at 0x1124e2f50>"
      ]
     },
     "metadata": {},
     "output_type": "display_data"
    }
   ],
   "source": [
    "#Plot averaged spectrum with EqW\n",
    "fig = plt.figure()\n",
    "plt.plot(Lambda,spec1)\n",
    "plt.axhline(y=Fc,ls='dashed',color='black')\n",
    "plt.axvline(x=16760,color='black')\n",
    "plt.axvline(x=16770,color='black')\n",
    "plt.axvline(x=16800,color='black')\n",
    "plt.axvline(x=16810,color='black')\n",
    "plt.axvline(x=Lambda[7650],ls='dashed',color='r')\n",
    "plt.axvline(x=16801,ls='dashed',color='r')\n",
    "plt.axvspan(lower,upper,ymin=0,ymax= 0.5,facecolor='g',alpha=0.35)\n",
    "fig.suptitle('2M03434449+3143092 EqW', fontsize=20)\n",
    "plt.xlabel('Wavelength', fontsize=16)\n",
    "plt.ylabel('Flux', fontsize=16)\n",
    "plt.xlim([16750,16820])\n",
    "plt.ylim([0,Fc*2])\n",
    "plt.savefig('EqW Test.jpg',bbox_inches='tight')"
   ]
  },
  {
   "cell_type": "code",
   "execution_count": null,
   "metadata": {
    "collapsed": true
   },
   "outputs": [],
   "source": []
  }
 ],
 "metadata": {
  "anaconda-cloud": {},
  "kernelspec": {
   "display_name": "Python [Root]",
   "language": "python",
   "name": "Python [Root]"
  },
  "language_info": {
   "codemirror_mode": {
    "name": "ipython",
    "version": 2
   },
   "file_extension": ".py",
   "mimetype": "text/x-python",
   "name": "python",
   "nbconvert_exporter": "python",
   "pygments_lexer": "ipython2",
   "version": "2.7.12"
  }
 },
 "nbformat": 4,
 "nbformat_minor": 0
}
