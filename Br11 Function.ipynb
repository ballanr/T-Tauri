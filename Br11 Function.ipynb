{
 "cells": [
  {
   "cell_type": "markdown",
   "metadata": {},
   "source": [
    "## Br11 Function"
   ]
  },
  {
   "cell_type": "code",
   "execution_count": 26,
   "metadata": {
    "collapsed": true
   },
   "outputs": [],
   "source": [
    "#Import tools\n",
    "import apogee.tools.read as apread\n",
    "import apogee.spec.plot as splot\n",
    "import numpy as np\n",
    "import matplotlib.pyplot as plt\n",
    "%matplotlib inline\n",
    "Lambda = splot.apStarWavegrid()"
   ]
  },
  {
   "cell_type": "code",
   "execution_count": 44,
   "metadata": {
    "collapsed": false
   },
   "outputs": [
    {
     "name": "stdout",
     "output_type": "stream",
     "text": [
      "Help on module apogee.spec.plot in apogee.spec:\n",
      "\n",
      "NAME\n",
      "    apogee.spec.plot\n",
      "\n",
      "FILE\n",
      "    //anaconda/lib/python2.7/site-packages/apogee-1.-py2.7.egg/apogee/spec/plot.py\n",
      "\n",
      "DESCRIPTION\n",
      "    ###############################################################################\n",
      "    # apogee.spec.plot: various way to plot APOGEE spectra\n",
      "    ###############################################################################\n",
      "\n",
      "FUNCTIONS\n",
      "    apStarWavegrid()\n",
      "    \n",
      "    detector(*args, **kwargs)\n",
      "        NAME:\n",
      "           detector\n",
      "        PURPOSE:\n",
      "           plot the spectrum from one of the detectors\n",
      "        INPUT:\n",
      "           Either:\n",
      "              (a) wavelength, spectrum (\\AA,spectrum units)\n",
      "              (b) spectrum (assumed on standard APOGEE re-sampled wavelength grid)\n",
      "              (c) location ID, APOGEE ID (default loads aspcapStar, loads extension ext(=1); apStar=True loads apStar spectrum)\n",
      "           +'blue', 'green', 'red' to pick the detector\n",
      "        KEYWORDS:\n",
      "           apogee.spec.plot.waveregions keywords\n",
      "        OUTPUT:\n",
      "           plot to output\n",
      "        HISTORY:\n",
      "           2015-01-19 - Written - Bovy (IAS)\n",
      "    \n",
      "    elements(elem, *args, **kwargs)\n",
      "        NAME:\n",
      "           elements\n",
      "        PURPOSE:\n",
      "           make a plot of measurements of the elemental abundances vs. atomic number\n",
      "        INPUT:\n",
      "           elem - dictionary with elemental abundances relative to H\n",
      "           wrtFe= (True) if True, plot elements wrt Fe on the left Y\n",
      "           inclwrtH= (True) if True, indicate what X/H is on the right Y\n",
      "           bovy_plot.bovy_plot args and kwargs\n",
      "        OUTPUT:\n",
      "           plot to output\n",
      "        HISTORY:\n",
      "           2015-03-10 - Written - Bovy (IAS)\n",
      "    \n",
      "    highres(*args, **kwargs)\n",
      "        NAME:\n",
      "           highres\n",
      "        PURPOSE:\n",
      "           plot a series of spectra in great detail; this function returns an iterator over a twelve panel plot, with four panels / detector; the iterator yields the panel (zero-based indexing), so can be used as\n",
      "        \n",
      "           for panel in apogee.spec.plot.highres(spectrum1,spectrum2):\n",
      "              # add some labels for specific panels\n",
      "              if panel == 0:\n",
      "                 bovy_plot.bovy_text(r'$\\mathrm{2M01515031 + 8549063}$',top_left=True)\n",
      "              show()\n",
      "        \n",
      "        INPUT:\n",
      "           arguments are spectra on the apStar or ASPCAP wavelength grid\n",
      "        KEYWORDS:\n",
      "           color= () list of colors (1 or #spectra)\n",
      "           ls= () list of linestyles (1 or #spectra)\n",
      "           xlabelLast= (False) if True, only apply the xlabel to the last panel\n",
      "           xlabelMiddle= (False) if True, only apply the xlabel to the middle panel (6th)\n",
      "           other relevant apogee.spec.plot.waveregions keywords\n",
      "        OUTPUT:\n",
      "           iterator over panels\n",
      "        HISTORY:\n",
      "           2015-04-27 - Written - Bovy (IAS)\n",
      "    \n",
      "    highres2pdf(*args, **kwargs)\n",
      "        NAME:\n",
      "           highres2df\n",
      "        PURPOSE:\n",
      "           plot a series of spectra in great detail and save them as pages in a PDF file (simple wrapper around highres)\n",
      "        INPUT:\n",
      "           arguments are spectra on the apStar or ASPCAP wavelength grid\n",
      "           + other apogee.spec.plot.highres inputs\n",
      "           pdfname= name of the PDF file to save to\n",
      "        OUTPUT:\n",
      "           (none; just saves a PDF)\n",
      "        HISTORY:\n",
      "           2015-04-27 - Written - Bovy (IAS)\n",
      "    \n",
      "    specPlotInputDecorator(func)\n",
      "        Decorator to parse input to spectral plotting\n",
      "    \n",
      "    waveregions(*args, **kwargs)\n",
      "        NAME:\n",
      "           waveregions\n",
      "        PURPOSE:\n",
      "           plot selected regions of the spectrum in one row\n",
      "        INPUT:\n",
      "           Either:\n",
      "              (a) wavelength, spectrum (\\AA,spectrum units)\n",
      "              (b) spectrum (assumed on standard APOGEE re-sampled wavelength grid)\n",
      "              (c) location ID, APOGEE ID (default loads aspcapStar, loads extension ext(=1); apStar=True loads apStar spectrum)\n",
      "        KEYWORDS:\n",
      "           File loading:\n",
      "              ext= (1) extension to load\n",
      "              apStar= (False) if True, load the apStar spectrum\n",
      "              apStarIndx= (1) index in the apStar spectrum to load\n",
      "           Chunks position:\n",
      "              startlams, endlams= start and end wavelength in \\AA of the various chunks (takes precedence over startindxs, endindxs)\n",
      "              startindxs, endindxs= star and end index in the wavelength array of the various chunks\n",
      "           Plotting-specific keywords\n",
      "              labelLines= (True) label some lines\n",
      "              noMolecLines= (False) don't label the molecules\n",
      "              cleanZero= (True) replace <= zero entries with NaN\n",
      "              labelID= A string ID that will be placed in the top-left corner\n",
      "              labelTeff, labellogg, labelmetals, labelafe= parameter labels that will be placed in the top-right corner\n",
      "              noxlabel= (False) if True, don't label the x axis\n",
      "              pyplot.plot args and kwargs\n",
      "        OUTPUT:\n",
      "           plot to output\n",
      "           The final axes allow one to put additional labels on the plot, e.g., for adding the APOGEE ID:\n",
      "           bovy_plot.bovy_text(r'$\\mathrm{%s}$' % '2M02420597+0837017',top_left=True)       \n",
      "           Note that an ID (e.g., the apogee ID) and Teff, logg, metallicity, and alpha-enhancement labels can be added using the keywords label* above\n",
      "        HISTORY:\n",
      "           2015-01-18 - Written (based on older code) - Bovy (IAS)\n",
      "    \n",
      "    windows(*args, **kwargs)\n",
      "        NAME:\n",
      "           windows\n",
      "        PURPOSE:\n",
      "           plot the spectral windows for a given element\n",
      "        INPUT:\n",
      "           Either:\n",
      "              (a) wavelength, spectrum (\\AA,spectrum units)\n",
      "              (b) spectrum (assumed on standard APOGEE re-sampled wavelength grid)\n",
      "              (c) location ID, APOGEE ID (default loads aspcapStar, loads extension ext(=1); apStar=True loads apStar spectrum)\n",
      "              +element string (e.g., 'Al'); Adding 1 and 2 splits the windows into two\n",
      "        KEYWORDS:\n",
      "           plot_weights= (False) if True, also plot the weights for the windows (assumes that the spectrum is on the apStarWavegrid)\n",
      "           markLines= mark the location of 'lines' (see apogee.spec.window.lines)\n",
      "           apogee.spec.plot.waveregions keywords\n",
      "        OUTPUT:\n",
      "           plot to output\n",
      "           The final axes allow one to put additional labels on the plot, e.g., for adding the APOGEE ID:\n",
      "           bovy_plot.bovy_text(r'$\\mathrm{%s}$' % '2M02420597+0837017',top_left=True)       \n",
      "           Note that an ID (e.g., the apogee ID) and Teff, logg, metallicity, and alpha-enhancement labels can be added using the keywords label* above\n",
      "        HISTORY:\n",
      "           2015-01-26 - Written (based on older code) - Bovy (IAS)\n",
      "\n",
      "DATA\n",
      "    l = 16743.5\n",
      "    line_labels = {'13co': r'$^{13}\\!\\mathrm{CO}$', 'al': r'$\\mathrm{Al\\ke...\n",
      "\n",
      "\n"
     ]
    }
   ],
   "source": [
    "help(splot)"
   ]
  },
  {
   "cell_type": "code",
   "execution_count": 27,
   "metadata": {
    "collapsed": true
   },
   "outputs": [],
   "source": [
    "#Input 2M number and find associated 4 digit ID"
   ]
  },
  {
   "cell_type": "code",
   "execution_count": 28,
   "metadata": {
    "collapsed": true
   },
   "outputs": [],
   "source": [
    "#Use the ID to find the right .fits file"
   ]
  },
  {
   "cell_type": "code",
   "execution_count": 29,
   "metadata": {
    "collapsed": true
   },
   "outputs": [],
   "source": [
    "#Calculate number of visits"
   ]
  },
  {
   "cell_type": "code",
   "execution_count": 30,
   "metadata": {
    "collapsed": true
   },
   "outputs": [],
   "source": [
    "#Read in APOGEE Spectrum\n",
    "visit1 = 1\n",
    "spec1= apread.apStar(4586,'2M03434449+3143092',ext=1,header=False)[1 + visit1]"
   ]
  },
  {
   "cell_type": "code",
   "execution_count": 31,
   "metadata": {
    "collapsed": true
   },
   "outputs": [],
   "source": [
    "#Plot all visits and zoom in around Br11"
   ]
  },
  {
   "cell_type": "code",
   "execution_count": 32,
   "metadata": {
    "collapsed": true
   },
   "outputs": [],
   "source": [
    "#Average all visits together"
   ]
  },
  {
   "cell_type": "code",
   "execution_count": 33,
   "metadata": {
    "collapsed": true
   },
   "outputs": [],
   "source": [
    "#Find peak of shifted Br11 emission"
   ]
  },
  {
   "cell_type": "code",
   "execution_count": 34,
   "metadata": {
    "collapsed": true
   },
   "outputs": [],
   "source": [
    "#Calculate Fc\n",
    "lsum= np.sum(spec1[7545:7590])/ len(spec1[7545:7590])\n",
    "rsum = np.sum(spec1[7719:7762])/len(spec1[7719:7762])\n",
    "Fc= (lsum+rsum)/2"
   ]
  },
  {
   "cell_type": "code",
   "execution_count": 38,
   "metadata": {
    "collapsed": false
   },
   "outputs": [
    {
     "data": {
      "text/plain": [
       "10.407295930781205"
      ]
     },
     "execution_count": 38,
     "metadata": {},
     "output_type": "execute_result"
    }
   ],
   "source": [
    "#Calculate Equivalent Width\n",
    "EqW=0\n",
    "for i in range(7590,7719):\n",
    "    summ=(Fc*(Lambda[i+1]-Lambda[i]))-((1./2.)*(Lambda[i+1]-Lambda[i])*(spec1[i+1]+spec1[i]))\n",
    "    EqW = EqW + summ\n",
    "EqW = abs(EqW/Fc)\n",
    "EqW"
   ]
  },
  {
   "cell_type": "code",
   "execution_count": 39,
   "metadata": {
    "collapsed": false
   },
   "outputs": [],
   "source": [
    "upper = Lambda[7650]+(EqW/2)\n",
    "lower = Lambda[7650]-(EqW/2)"
   ]
  },
  {
   "cell_type": "code",
   "execution_count": 43,
   "metadata": {
    "collapsed": false
   },
   "outputs": [
    {
     "data": {
      "image/png": "[encoded data removed]",
      "text/plain": [
       "<matplotlib.figure.Figure at 0x112cd4ad0>"
      ]
     },
     "metadata": {},
     "output_type": "display_data"
    }
   ],
   "source": [
    "#Plot averaged spectrum with EqW\n",
    "fig = plt.figure()\n",
    "plt.plot(Lambda,spec1)\n",
    "plt.axhline(y=Fc,ls='dashed',color='black')\n",
    "plt.axvline(x=16760,ls='dashed',color='purple')\n",
    "plt.axvline(x=16770,ls='dashed',color='purple')\n",
    "plt.axvline(x=16800,ls='dashed',color='purple')\n",
    "plt.axvline(x=16810,ls='dashed',color='purple')\n",
    "plt.axvline(x=Lambda[7650],ls='dashed',color='r')\n",
    "plt.axvline(x=16801,ls='dashed',color='r')\n",
    "plt.axvspan(lower,upper,ymin=0,ymax= 0.5,facecolor='g',alpha=0.35)\n",
    "fig.suptitle('2M03434449+3143092 EqW', fontsize=20)\n",
    "plt.xlabel('Wavelength', fontsize=16)\n",
    "plt.ylabel('Flux', fontsize=16)\n",
    "plt.xlim([16750,16820])\n",
    "plt.ylim([0,Fc*2])\n",
    "plt.savefig('EqW Test_better.pdf',bbox_inches='tight')"
   ]
  },
  {
   "cell_type": "code",
   "execution_count": null,
   "metadata": {
    "collapsed": true
   },
   "outputs": [],
   "source": []
  }
 ],
 "metadata": {
  "anaconda-cloud": {},
  "kernelspec": {
   "display_name": "Python [Root]",
   "language": "python",
   "name": "Python [Root]"
  },
  "language_info": {
   "codemirror_mode": {
    "name": "ipython",
    "version": 2
   },
   "file_extension": ".py",
   "mimetype": "text/x-python",
   "name": "python",
   "nbconvert_exporter": "python",
   "pygments_lexer": "ipython2",
   "version": "2.7.12"
  }
 },
 "nbformat": 4,
 "nbformat_minor": 0
}
