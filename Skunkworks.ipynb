{
 "cells": [
  {
   "cell_type": "code",
   "execution_count": 37,
   "metadata": {
    "collapsed": true
   },
   "outputs": [],
   "source": [
    "import apogee.tools.read as apread\n",
    "import apogee.spec.plot as splot\n",
    "import numpy as np\n",
    "import matplotlib.pyplot as plt\n",
    "from matplotlib.patches import Rectangle\n",
    "%matplotlib inline\n",
    "Lambda = splot.apStarWavegrid()\n",
    "import csv\n",
    "import sys"
   ]
  },
  {
   "cell_type": "code",
   "execution_count": 38,
   "metadata": {
    "collapsed": true
   },
   "outputs": [],
   "source": [
    "def find_nearest(array,value):\n",
    "    index = (np.abs(array-value)).argmin()\n",
    "    #return array[index]\n",
    "    return index"
   ]
  },
  {
   "cell_type": "code",
   "execution_count": 39,
   "metadata": {
    "collapsed": true
   },
   "outputs": [],
   "source": [
    "def Equiv_Width(plate_number,twomass_id):\n",
    "    \n",
    "    #given a certain spec\n",
    "    spec_header = apread.apStar(plate_number,twomass_id,ext=0,header=True)\n",
    "    nvisits = spec_header[1]['NVISITS']\n",
    "    EqW_array = []\n",
    "    \n",
    "    #calculate the emission line in a vacuum\n",
    "    vhelio = spec_header[1]['VHELIO']\n",
    "\n",
    "    c = 299792\n",
    "    rydberg = 1.0973731568539*(10**7)\n",
    "    electron = 9.10938356*(10**-31)\n",
    "    nucleus = 1.672621898*(10**-27)\n",
    "\n",
    "    fracryd = rydberg/(1+(electron/nucleus))\n",
    "    vacuum = fracryd*((1./16.)-(1./121.))\n",
    "    lambda_obs = 1/vacuum\n",
    "    calculated_point1 = lambda_obs*(1+(-vhelio/c))\n",
    "    calculated_point2 = calculated_point1*(10**10)\n",
    "    \n",
    "    \n",
    "    for i in range(nvisits):\n",
    "        spec = apread.apStar(plate_number,twomass_id,ext=1,header=False)[2 + i]\n",
    "    \n",
    "    \n",
    "        centerline = find_nearest(Lambda,calculated_point2)\n",
    "        L1 = centerline - 90\n",
    "        L2 = centerline - 45\n",
    "        R1 = centerline + 45\n",
    "        R2 = centerline + 90\n",
    "        #generic continuum lines 35 elements wide \n",
    "        lsum= np.sum(spec[L1:L2])/ len(spec[L1:L2])\n",
    "        rsum = np.sum(spec[R1:R2])/len(spec[R1:R2])\n",
    "        Fc= (lsum+rsum)/2\n",
    "    \n",
    "        EqW=0\n",
    "        \n",
    "        for i in range(L2,R1):\n",
    "            summ=(Fc*(Lambda[i+1]-Lambda[i]))-((1./2.)*(Lambda[i+1]-Lambda[i])*(spec[i+1]+spec[i]))\n",
    "            EqW = EqW + summ\n",
    "        EqW = abs(EqW/Fc)\n",
    "        EqW_array.append(EqW)\n",
    "        \n",
    "\n",
    "    STD = np.std(EqW_array)\n",
    "    \n",
    "    EqW_M = np.median(EqW_array)\n",
    "    return twomass_id,plate_number,EqW_M,STD\n",
    "    #print np.sort(EqW_array)\n",
    "    #print 'The Equivalent Width is',EqW_M,'.'\n",
    "    #print 'The Standard Deviation is',STD,'.'"
   ]
  },
  {
   "cell_type": "code",
   "execution_count": 64,
   "metadata": {
    "collapsed": false
   },
   "outputs": [],
   "source": [
    "def EqW_Function(filename,savefile):\n",
    "    \n",
    "    #INPUT\n",
    "    x=[]\n",
    "    exampleFile = open(filename)\n",
    "    exampleReader = csv.reader(exampleFile)\n",
    "    exampleData = list(exampleReader)\n",
    "    for row in exampleData:\n",
    "        x.append(Equiv_Width(row[2],row[1]))\n",
    "    \n",
    "    #OUTPUT\n",
    "    f = open(savefile, 'wb')\n",
    "    try:\n",
    "        writer = csv.writer(f,delimiter='\\t',lineterminator='\\n\\n')\n",
    "        writer.writerow( ('#','2M ID', 'Plate ID', 'EqW','StD') )\n",
    "        for i in range(len(x)):\n",
    "            writer.writerow( (i,x[i][0], x[i][1],x[i][2],x[i][3]) )\n",
    "    finally:\n",
    "        f.close()\n",
    "\n",
    "    print open(savefile, 'rt').read()"
   ]
  },
  {
   "cell_type": "code",
   "execution_count": 66,
   "metadata": {
    "collapsed": false
   },
   "outputs": [
    {
     "name": "stdout",
     "output_type": "stream",
     "text": [
      "#\t2M ID\tPlate ID\tEqW\tStD\n",
      "\n",
      "0\t2M03434449+3143092\t4586\t7.9898370160982104\t2.2593946604125996\n",
      "\n",
      "1\t2M03250943+3046215\t4587\t2.0698771175336788\t0.63694837387889458\n",
      "\n",
      "2\t2M03295403+3120529\t4587\t1.1320212439900745\t0.21907225864023644\n",
      "\n",
      "3\t2M06413876+0932117\t4572\t1.8984536264315228\t0.36950878685894351\n",
      "\n",
      "4\t2M06410890+0929451\t4572\t3.1921949984133882\t0.55159746179534608\n",
      "\n",
      "5\t2M06410715+0927294\t4572\t0.22753420433440119\t0.70494264559097786\n",
      "\n",
      "6\t2M06405639+0935533\t4572\t3.7083618495714052\t0.61930987601473142\n",
      "\n",
      "7\t2M06405426+0949203\t4572\t0.86631283116952496\t0.31645245392345367\n",
      "\n",
      "8\t2M06404837+0948385\t4572\t1.365373392214839\t0.84365395159920009\n",
      "\n",
      "9\t2M06403934+0934455\t4572\t0.47407172061032232\t0.14044376435364542\n",
      "\n",
      "10\t2M06403665+0952032\t4572\t3.3178808164380511\t0.74372091406306284\n",
      "\n",
      "11\t2M06402926+0926114\t4572\t0.27648737273880608\t0.20842812482359555\n",
      "\n",
      "12\t2M06401370+0956305\t4572\t1.89738531218718\t0.31132525334895894\n",
      "\n",
      "13\t2M03474160+3251437\t4586\t1.8661530609218397\t0.33391013988714147\n",
      "\n",
      "14\t2M03451634+3206199\t4586\t2.2557351107127417\t0.69336140772647414\n",
      "\n",
      "15\t2M03442972+3210398\t4586\t1.5211254495575222\t0.92941079544175964\n",
      "\n",
      "16\t2M03442789+3227189\t4586\t0.31863957059118631\t0.3618378722498134\n",
      "\n",
      "17\t2M03442602+3204304\t4586\t0.20143478442687873\t0.2271789062131899\n",
      "\n",
      "18\t2M03441857+3212530\t4586\t1.4491485370441208\t0.31366774822328902\n",
      "\n",
      "19\t2M03435907+3214213\t4586\t3.3171896859749577\t0.41926282115071251\n",
      "\n",
      "20\t2M03435856+3217275\t4586\t1.0177380236797227\t0.29731824649249061\n",
      "\n",
      "21\t2M03434517+3203585\t4586\t1.1734603902994223\t0.46646213594067526\n",
      "\n",
      "22\t2M03434449+3143092\t4586\t7.9898370160982104\t2.2593946604125996\n",
      "\n",
      "23\t2M03432820+3201591\t4586\t0.75648406081534914\t0.33114174094780108\n",
      "\n",
      "24\t2M03432222+3146136\t4586\t1.1958276693230541\t0.32014460446396314\n",
      "\n",
      "25\t2M03421927+3143269\t4586\t0.13311192386709331\t0.24299744497027492\n",
      "\n",
      "26\t2M03324171+3110461\t4587\t0.30400158997449822\t0.19234552832545357\n",
      "\n",
      "27\t2M03323405+3100557\t4587\t0.76795299906966086\t0.41644969066156395\n",
      "\n",
      "28\t2M03305252+3054177\t4587\t1.3356160376835255\t0.28920924275138121\n",
      "\n",
      "29\t2M03304399+3032469\t4587\t0.28529997542915958\t0.10095894066534532\n",
      "\n",
      "30\t2M03302715+3028297\t4587\t1.305555103942442\t0.40185031301732804\n",
      "\n",
      "\n"
     ]
    }
   ],
   "source": [
    "EqW_Function('FST CSV FILE.csv','FST TEST3.csv')"
   ]
  },
  {
   "cell_type": "code",
   "execution_count": null,
   "metadata": {
    "collapsed": true
   },
   "outputs": [],
   "source": []
  }
 ],
 "metadata": {
  "anaconda-cloud": {},
  "kernelspec": {
   "display_name": "Python [Root]",
   "language": "python",
   "name": "Python [Root]"
  },
  "language_info": {
   "codemirror_mode": {
    "name": "ipython",
    "version": 2
   },
   "file_extension": ".py",
   "mimetype": "text/x-python",
   "name": "python",
   "nbconvert_exporter": "python",
   "pygments_lexer": "ipython2",
   "version": "2.7.12"
  }
 },
 "nbformat": 4,
 "nbformat_minor": 0
}
