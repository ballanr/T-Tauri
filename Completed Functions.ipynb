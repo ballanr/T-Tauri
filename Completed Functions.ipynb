{
 "cells": [
  {
   "cell_type": "code",
   "execution_count": 1,
   "metadata": {
    "collapsed": false
   },
   "outputs": [
    {
     "ename": "ModuleNotFoundError",
     "evalue": "No module named 'apogee'",
     "output_type": "error",
     "traceback": [
      "\u001b[0;31m---------------------------------------------------------------------------\u001b[0m",
      "\u001b[0;31mModuleNotFoundError\u001b[0m                       Traceback (most recent call last)",
      "\u001b[0;32m<ipython-input-1-a433b48ad85c>\u001b[0m in \u001b[0;36m<module>\u001b[0;34m()\u001b[0m\n\u001b[0;32m----> 1\u001b[0;31m \u001b[0;32mimport\u001b[0m \u001b[0mapogee\u001b[0m\u001b[0;34m.\u001b[0m\u001b[0mtools\u001b[0m\u001b[0;34m.\u001b[0m\u001b[0mread\u001b[0m \u001b[0;32mas\u001b[0m \u001b[0mapread\u001b[0m\u001b[0;34m\u001b[0m\u001b[0m\n\u001b[0m\u001b[1;32m      2\u001b[0m \u001b[0;32mimport\u001b[0m \u001b[0mapogee\u001b[0m\u001b[0;34m.\u001b[0m\u001b[0mspec\u001b[0m\u001b[0;34m.\u001b[0m\u001b[0mplot\u001b[0m \u001b[0;32mas\u001b[0m \u001b[0msplot\u001b[0m\u001b[0;34m\u001b[0m\u001b[0m\n\u001b[1;32m      3\u001b[0m \u001b[0;32mimport\u001b[0m \u001b[0mnumpy\u001b[0m \u001b[0;32mas\u001b[0m \u001b[0mnp\u001b[0m\u001b[0;34m\u001b[0m\u001b[0m\n\u001b[1;32m      4\u001b[0m \u001b[0;32mimport\u001b[0m \u001b[0mmatplotlib\u001b[0m\u001b[0;34m.\u001b[0m\u001b[0mpyplot\u001b[0m \u001b[0;32mas\u001b[0m \u001b[0mplt\u001b[0m\u001b[0;34m\u001b[0m\u001b[0m\n\u001b[1;32m      5\u001b[0m \u001b[0mget_ipython\u001b[0m\u001b[0;34m(\u001b[0m\u001b[0;34m)\u001b[0m\u001b[0;34m.\u001b[0m\u001b[0mmagic\u001b[0m\u001b[0;34m(\u001b[0m\u001b[0;34m'matplotlib inline'\u001b[0m\u001b[0;34m)\u001b[0m\u001b[0;34m\u001b[0m\u001b[0m\n",
      "\u001b[0;31mModuleNotFoundError\u001b[0m: No module named 'apogee'"
     ]
    }
   ],
   "source": [
    "import apogee.tools.read as apread\n",
    "import apogee.spec.plot as splot\n",
    "import numpy as np\n",
    "import matplotlib.pyplot as plt\n",
    "%matplotlib inline\n",
    "Lambda = splot.apStarWavegrid()\n",
    "import csv\n",
    "import sys"
   ]
  },
  {
   "cell_type": "code",
   "execution_count": null,
   "metadata": {
    "collapsed": true
   },
   "outputs": [],
   "source": [
    "def find_nearest(array,value):\n",
    "    index = (np.abs(array-value)).argmin()\n",
    "    #return array[index]\n",
    "    return index"
   ]
  },
  {
   "cell_type": "markdown",
   "metadata": {},
   "source": [
    "## Main Function"
   ]
  },
  {
   "cell_type": "code",
   "execution_count": null,
   "metadata": {
    "collapsed": false
   },
   "outputs": [],
   "source": [
    "def Equiv_Width(loc_id,twomass_id):\n",
    "    \n",
    "    \n",
    "    #given a certain spec\n",
    "    spec_header = apread.apStar(loc_id,twomass_id,ext=0,header=True)\n",
    "    spec_noheader = apread.apStar(loc_id,twomass_id,ext=1,header=False)\n",
    "    nvisits = spec_header[1]['NVISITS']\n",
    "    EqW_array = []\n",
    "    \n",
    "    #calculate the emission line in a vacuum\n",
    "    vhelio = spec_header[1]['VHELIO']\n",
    "\n",
    "    c = 299792\n",
    "    rydberg = 1.0973731568539*(10**7)\n",
    "    electron = 9.10938356*(10**-31)\n",
    "    nucleus = 1.672621898*(10**-27)\n",
    "    fracryd = rydberg/(1+(electron/nucleus))\n",
    "    vacuum = fracryd*((1./16.)-(1./121.))\n",
    "    lambda_obs = 1/vacuum\n",
    "    calculated_point1 = lambda_obs*(1+(-vhelio/c))\n",
    "    calculated_point2 = calculated_point1*(10**10)\n",
    "    \n",
    "    \n",
    "    \n",
    "    #EqW calculations\n",
    "    for i in range(nvisits):\n",
    "        spec = spec_noheader[2 + i]\n",
    "    \n",
    "        centerline = find_nearest(Lambda,calculated_point2)\n",
    "        L1 = centerline - 90\n",
    "        L2 = centerline - 45\n",
    "        R1 = centerline + 45\n",
    "        R2 = centerline + 90\n",
    "        #generic continuum lines 35 elements wide \n",
    "        lsum= np.sum(spec[L1:L2])/ len(spec[L1:L2])\n",
    "        rsum = np.sum(spec[R1:R2])/len(spec[R1:R2])\n",
    "        Fc= (lsum+rsum)/2\n",
    "    \n",
    "        EqW=0\n",
    "        \n",
    "        for i in range(L2,R1):\n",
    "            summ=(Fc*(Lambda[i+1]-Lambda[i]))-((1./2.)*(Lambda[i+1]-Lambda[i])*(spec[i+1]+spec[i]))\n",
    "            EqW = EqW + summ\n",
    "        EqW = abs(EqW/Fc)\n",
    "        EqW_array.append(EqW)\n",
    "        \n",
    "\n",
    "    STD = np.std(EqW_array)\n",
    "    EqW_M = np.median(EqW_array)\n",
    "    \n",
    "    #Plotting\n",
    "    \n",
    "    Lwindow = find_nearest(Lambda,calculated_point2-40)\n",
    "    Rwindow = find_nearest(Lambda,calculated_point2+40)\n",
    "    avg_width= Rwindow-Lwindow\n",
    "    avg = np.zeros(shape=(avg_width,))\n",
    "    \n",
    "    for i in range(nvisits):\n",
    "       \n",
    "        input_spectra = spec_noheader[2 + i]\n",
    "        avg += input_spectra[Lwindow:Rwindow]   \n",
    "    \n",
    "    #Plotting all visits\n",
    "    #for i in range(nvisits):\n",
    "        #plt.plot(Lambda,spec_noheader[i])\n",
    "        #plt.xlim(Lambda[centerline]-40,Lambda[centerline] + 40)\n",
    "        #plt.axvline(x=Lambda[centerline],ls='dashed',color='r')\n",
    "        \n",
    "    #plt.plot(Lambda[Lwindow:Rwindow],avg/nvisits)\n",
    "    #plt.xlim(Lambda[centerline]-40,Lambda[centerline] + 40)\n",
    "    #plt.axvline(x=Lambda[centerline],ls='dashed',color='r')\n",
    "    #plt.axvspan(Lambda[L1],Lambda[L2],color='green',alpha=0.2)\n",
    "    #plt.axvspan(Lambda[R1],Lambda[R2],color='green',alpha=0.2)\n",
    "    #plt.axhline(Fc,ls='dashed',color='black')\n",
    "    #plt.xlabel('Wavelength (Angstroms)')\n",
    "    #plt.ylabel('Flux')\n",
    "    \n",
    "    #Setting up the ylimit values\n",
    "    bigy= []\n",
    "    for i in range(nvisits):\n",
    "        input_spectra = spec_noheader[2 + i]\n",
    "        bigy.append(np.max(input_spectra[L2:R1]))\n",
    "    ymax_allvisits = np.max(bigy) + 100\n",
    "    ymax_avg = np.max(avg/nvisits)+100\n",
    "    ymin = Fc - 100\n",
    "    \n",
    "    # Three subplots sharing both x/y axes\n",
    "    \n",
    "    f, (ax1, ax2) = plt.subplots(2, sharex=True, sharey=False)\n",
    "    \n",
    "    for i in range(nvisits):\n",
    "        ax1.plot(Lambda,spec_noheader[2+i])\n",
    "    plt.xlim(Lambda[centerline]-40,Lambda[centerline] + 40)\n",
    "    ax1.axvspan(Lambda[L1],Lambda[L2],color='green',alpha=0.2)\n",
    "    ax1.axvspan(Lambda[R1],Lambda[R2],color='green',alpha=0.2)\n",
    "    ax1.axhline(Fc,ls='dashed',color='black')\n",
    "    ax2.axhline(Fc,ls='dashed',color='black')\n",
    "    ax1.axvline(x=Lambda[centerline],ls='dashed',color='r')\n",
    "    ax2.axvline(x=Lambda[centerline],ls='dashed',color='r') \n",
    "    ax2.plot(Lambda[Lwindow:Rwindow],avg/nvisits)\n",
    "    ax1.set_ylim([ymin, ymax_allvisits])\n",
    "    ax2.set_ylim([ymin, ymax_avg])\n",
    "    ax1.set_title('Double Plot')\n",
    "    plt.xlabel('Wavelength (Angstroms)')\n",
    "    ax1.set_ylabel('Flux')\n",
    "    ax2.set_ylabel('Flux')\n",
    "    \n",
    "    \n",
    "    # Fine-tune figure; make subplots close to each other and hide x ticks for\n",
    "    # all but bottom plot.\n",
    "    f.subplots_adjust(hspace=0)\n",
    "    plt.setp([a.get_xticklabels() for a in f.axes[:-1]], visible=False)\n",
    "    \n",
    "    \n",
    "    #Saving a file\n",
    "    #plt.savefig('foo.png',dpi=300)"
   ]
  },
  {
   "cell_type": "markdown",
   "metadata": {},
   "source": [
    "# Reading in a File"
   ]
  },
  {
   "cell_type": "code",
   "execution_count": 1,
   "metadata": {
    "collapsed": true
   },
   "outputs": [],
   "source": [
    "import csv"
   ]
  },
  {
   "cell_type": "code",
   "execution_count": null,
   "metadata": {
    "collapsed": true
   },
   "outputs": [],
   "source": [
    "def All_Outputs(csvname):\n",
    "    \n",
    "    with open(csvname) as csvfile:\n",
    "        readCSV = csv.reader(csvfile,delimiter=',')\n",
    "    \n",
    "        for row in readCSV:\n",
    "            loc_id=[]\n",
    "            twomass_id=[]\n",
    "            Equiv_Width(loc_id,twomass_id)"
   ]
  },
  {
   "cell_type": "code",
   "execution_count": null,
   "metadata": {
    "collapsed": true
   },
   "outputs": [],
   "source": [
    "def Avg_Outputs(csvname):\n",
    "    \n",
    "    with open(csvname) as csvfile:\n",
    "        readCSV = csv.reader(csvfile,delimiter=',')\n",
    "    \n",
    "        for row in readCSV:\n",
    "            loc_id=[]\n",
    "            twomass_id=[]\n",
    "            Equiv_Width(loc_id,twomass_id)"
   ]
  },
  {
   "cell_type": "code",
   "execution_count": null,
   "metadata": {
    "collapsed": false
   },
   "outputs": [],
   "source": [
    "Equiv_Width(4586,'2M03434449+3143092')"
   ]
  },
  {
   "cell_type": "code",
   "execution_count": null,
   "metadata": {
    "collapsed": false
   },
   "outputs": [],
   "source": [
    "Equiv_Width(4587,'2M03295403+3120529')"
   ]
  },
  {
   "cell_type": "code",
   "execution_count": null,
   "metadata": {
    "collapsed": false
   },
   "outputs": [],
   "source": [
    "Equiv_Width(4587,'2M03250943+3046215')"
   ]
  },
  {
   "cell_type": "code",
   "execution_count": null,
   "metadata": {
    "collapsed": false
   },
   "outputs": [],
   "source": [
    "Equiv_Width(4572,'2M06404837+0948385')"
   ]
  },
  {
   "cell_type": "code",
   "execution_count": null,
   "metadata": {
    "collapsed": false
   },
   "outputs": [],
   "source": [
    "Equiv_Width(4587,'2M03292187+3115363')"
   ]
  },
  {
   "cell_type": "code",
   "execution_count": null,
   "metadata": {
    "collapsed": false
   },
   "outputs": [],
   "source": [
    "Equiv_Width(4587,'2M03295403+3120529')"
   ]
  },
  {
   "cell_type": "code",
   "execution_count": null,
   "metadata": {
    "collapsed": false
   },
   "outputs": [],
   "source": [
    "Equiv_Width(4572,'2M06413876+0932117')"
   ]
  },
  {
   "cell_type": "code",
   "execution_count": null,
   "metadata": {
    "collapsed": false
   },
   "outputs": [],
   "source": [
    "Equiv_Width(4572,'2M06410890+0929451')"
   ]
  },
  {
   "cell_type": "code",
   "execution_count": null,
   "metadata": {
    "collapsed": false
   },
   "outputs": [],
   "source": [
    "Equiv_Width(4572,'2M06410715+0927294')"
   ]
  },
  {
   "cell_type": "code",
   "execution_count": null,
   "metadata": {
    "collapsed": false
   },
   "outputs": [],
   "source": [
    "Equiv_Width(4572,'2M06405926+0933250')"
   ]
  },
  {
   "cell_type": "code",
   "execution_count": null,
   "metadata": {
    "collapsed": false
   },
   "outputs": [],
   "source": [
    "Equiv_Width(4572,'2M06405426+0949203')"
   ]
  },
  {
   "cell_type": "code",
   "execution_count": null,
   "metadata": {
    "collapsed": false
   },
   "outputs": [],
   "source": [
    "Equiv_Width(4572,'2M06404837+0948385')"
   ]
  },
  {
   "cell_type": "code",
   "execution_count": null,
   "metadata": {
    "collapsed": false
   },
   "outputs": [],
   "source": [
    "Equiv_Width(4162,'2M08541894+1239291')"
   ]
  },
  {
   "cell_type": "code",
   "execution_count": null,
   "metadata": {
    "collapsed": false
   },
   "outputs": [],
   "source": [
    "Equiv_Width(4102,'2M21432172+4151293')"
   ]
  },
  {
   "cell_type": "code",
   "execution_count": null,
   "metadata": {
    "collapsed": true
   },
   "outputs": [],
   "source": []
  }
 ],
 "metadata": {
  "anaconda-cloud": {},
  "kernelspec": {
   "display_name": "Python 3",
   "language": "python",
   "name": "python3"
  },
  "language_info": {
   "codemirror_mode": {
    "name": "ipython",
    "version": 3
   },
   "file_extension": ".py",
   "mimetype": "text/x-python",
   "name": "python",
   "nbconvert_exporter": "python",
   "pygments_lexer": "ipython3",
   "version": "3.6.0"
  }
 },
 "nbformat": 4,
 "nbformat_minor": 0
}
