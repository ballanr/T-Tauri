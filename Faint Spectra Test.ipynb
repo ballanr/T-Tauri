{
 "cells": [
  {
   "cell_type": "markdown",
   "metadata": {},
   "source": [
    "# Faint Spectra Test"
   ]
  },
  {
   "cell_type": "code",
   "execution_count": 48,
   "metadata": {
    "collapsed": true
   },
   "outputs": [],
   "source": [
    "import apogee.tools.read as apread\n",
    "import apogee.spec.plot as splot\n",
    "import numpy as np\n",
    "import matplotlib.pyplot as plt\n",
    "from matplotlib.patches import Rectangle\n",
    "%matplotlib inline\n",
    "Lambda = splot.apStarWavegrid()\n",
    "import csv\n",
    "import sys"
   ]
  },
  {
   "cell_type": "code",
   "execution_count": 49,
   "metadata": {
    "collapsed": true
   },
   "outputs": [],
   "source": [
    "def find_nearest(array,value):\n",
    "    idx = (np.abs(array-value)).argmin()\n",
    "    #return array[idx]\n",
    "    return idx"
   ]
  },
  {
   "cell_type": "code",
   "execution_count": 50,
   "metadata": {
    "collapsed": true
   },
   "outputs": [],
   "source": [
    "def Equiv_Width(plate_number,twomass_id):\n",
    "    \n",
    "    #given a certain spec\n",
    "    spec_header = apread.apStar(plate_number,twomass_id,ext=0,header=True)\n",
    "    nvisits = spec_header[1]['NVISITS']\n",
    "    EqW_array = []\n",
    "    \n",
    "    #calculate the emission line in a vacuum\n",
    "    vhelio = spec_header[1]['VHELIO']\n",
    "\n",
    "    c = 299792\n",
    "    rydberg = 1.0973731568539*(10**7)\n",
    "    electron = 9.10938356*(10**-31)\n",
    "    nucleus = 1.672621898*(10**-27)\n",
    "\n",
    "    fracryd = rydberg/(1+(electron/nucleus))\n",
    "    vacuum = fracryd*((1./16.)-(1./121.))\n",
    "    lambda_obs = 1/vacuum\n",
    "    calculated_point1 = lambda_obs*(1+(-vhelio/c))\n",
    "    calculated_point2 = calculated_point1*(10**10)\n",
    "    \n",
    "    \n",
    "    for i in range(nvisits):\n",
    "        spec = apread.apStar(plate_number,twomass_id,ext=1,header=False)[2 + i]\n",
    "    \n",
    "    \n",
    "        centerline = find_nearest(Lambda,calculated_point2)\n",
    "        L1 = centerline - 90\n",
    "        L2 = centerline - 45\n",
    "        R1 = centerline + 45\n",
    "        R2 = centerline + 90\n",
    "        #generic continuum lines 35 elements wide \n",
    "        lsum= np.sum(spec[L1:L2])/ len(spec[L1:L2])\n",
    "        rsum = np.sum(spec[R1:R2])/len(spec[R1:R2])\n",
    "        Fc= (lsum+rsum)/2\n",
    "    \n",
    "        EqW=0\n",
    "        \n",
    "        for i in range(L2,R1):\n",
    "            summ=(Fc*(Lambda[i+1]-Lambda[i]))-((1./2.)*(Lambda[i+1]-Lambda[i])*(spec[i+1]+spec[i]))\n",
    "            EqW = EqW + summ\n",
    "        EqW = abs(EqW/Fc)\n",
    "        EqW_array.append(EqW)\n",
    "        \n",
    "\n",
    "    STD = np.std(EqW_array)\n",
    "    \n",
    "    EqW_M = np.median(EqW_array)\n",
    "    return twomass_id,plate_number,EqW_M,STD\n",
    "    #print np.sort(EqW_array)\n",
    "    #print 'The Equivalent Width is',EqW_M,'.'\n",
    "    #print 'The Standard Deviation is',STD,'.'"
   ]
  },
  {
   "cell_type": "code",
   "execution_count": 51,
   "metadata": {
    "collapsed": false
   },
   "outputs": [],
   "source": [
    "x=[]\n",
    "x.append(Equiv_Width(4586,'2M03434449+3143092'))\n",
    "x.append(Equiv_Width(4587,'2M03250943+3046215'))\n",
    "x.append(Equiv_Width(4587,'2M03295403+3120529'))\n",
    "x.append(Equiv_Width(4572,'2M06413876+0932117'))\n",
    "x.append(Equiv_Width(4572,'2M06410890+0929451'))\n",
    "x.append(Equiv_Width(4572,'2M06410715+0927294'))\n",
    "x.append(Equiv_Width(4572,'2M06405639+0935533'))\n",
    "x.append(Equiv_Width(4572,'2M06405426+0949203'))\n",
    "x.append(Equiv_Width(4572,'2M06404837+0948385'))\n",
    "x.append(Equiv_Width(4572,'2M06403934+0934455'))\n",
    "x.append(Equiv_Width(4572,'2M06403665+0952032'))\n",
    "x.append(Equiv_Width(4572,'2M06402926+0926114'))\n",
    "x.append(Equiv_Width(4572,'2M06401370+0956305'))\n",
    "x.append(Equiv_Width(4586,'2M03474160+3251437'))\n",
    "x.append(Equiv_Width(4586,'2M03451634+3206199'))\n",
    "x.append(Equiv_Width(4586,'2M03442972+3210398'))\n",
    "x.append(Equiv_Width(4586,'2M03442789+3227189'))\n",
    "x.append(Equiv_Width(4586,'2M03442602+3204304'))\n",
    "x.append(Equiv_Width(4586,'2M03441857+3212530'))\n",
    "x.append(Equiv_Width(4586,'2M03435907+3214213'))\n",
    "x.append(Equiv_Width(4586,'2M03435856+3217275'))\n",
    "x.append(Equiv_Width(4586,'2M03434517+3203585'))\n",
    "x.append(Equiv_Width(4586,'2M03434449+3143092'))\n",
    "x.append(Equiv_Width(4586,'2M03432820+3201591'))\n",
    "x.append(Equiv_Width(4586,'2M03432222+3146136'))\n",
    "x.append(Equiv_Width(4586,'2M03421927+3143269'))\n",
    "x.append(Equiv_Width(4587,'2M03324171+3110461'))\n",
    "x.append(Equiv_Width(4587,'2M03323405+3100557'))\n",
    "x.append(Equiv_Width(4587,'2M03305252+3054177'))\n",
    "x.append(Equiv_Width(4587,'2M03304399+3032469'))\n",
    "x.append(Equiv_Width(4587,'2M03302715+3028297'))"
   ]
  },
  {
   "cell_type": "code",
   "execution_count": 52,
   "metadata": {
    "collapsed": false
   },
   "outputs": [
    {
     "name": "stdout",
     "output_type": "stream",
     "text": [
      "#,2M ID,Plate ID,EqW,StD\r\n",
      "0,2M03434449+3143092,4586,7.9898370160982104,2.2593946604125996\r\n",
      "1,2M03250943+3046215,4587,2.0698771175336788,0.63694837387889458\r\n",
      "2,2M03295403+3120529,4587,1.1320212439900745,0.21907225864023644\r\n",
      "3,2M06413876+0932117,4572,1.8984536264315228,0.36950878685894351\r\n",
      "4,2M06410890+0929451,4572,3.1921949984133882,0.55159746179534608\r\n",
      "5,2M06410715+0927294,4572,0.22753420433440119,0.70494264559097786\r\n",
      "6,2M06405639+0935533,4572,3.7083618495714052,0.61930987601473142\r\n",
      "7,2M06405426+0949203,4572,0.86631283116952496,0.31645245392345367\r\n",
      "8,2M06404837+0948385,4572,1.365373392214839,0.84365395159920009\r\n",
      "9,2M06403934+0934455,4572,0.47407172061032232,0.14044376435364542\r\n",
      "10,2M06403665+0952032,4572,3.3178808164380511,0.74372091406306284\r\n",
      "11,2M06402926+0926114,4572,0.27648737273880608,0.20842812482359555\r\n",
      "12,2M06401370+0956305,4572,1.89738531218718,0.31132525334895894\r\n",
      "13,2M03474160+3251437,4586,1.8661530609218397,0.33391013988714147\r\n",
      "14,2M03451634+3206199,4586,2.2557351107127417,0.69336140772647414\r\n",
      "15,2M03442972+3210398,4586,1.5211254495575222,0.92941079544175964\r\n",
      "16,2M03442789+3227189,4586,0.31863957059118631,0.3618378722498134\r\n",
      "17,2M03442602+3204304,4586,0.20143478442687873,0.2271789062131899\r\n",
      "18,2M03441857+3212530,4586,1.4491485370441208,0.31366774822328902\r\n",
      "19,2M03435907+3214213,4586,3.3171896859749577,0.41926282115071251\r\n",
      "20,2M03435856+3217275,4586,1.0177380236797227,0.29731824649249061\r\n",
      "21,2M03434517+3203585,4586,1.1734603902994223,0.46646213594067526\r\n",
      "22,2M03434449+3143092,4586,7.9898370160982104,2.2593946604125996\r\n",
      "23,2M03432820+3201591,4586,0.75648406081534914,0.33114174094780108\r\n",
      "24,2M03432222+3146136,4586,1.1958276693230541,0.32014460446396314\r\n",
      "25,2M03421927+3143269,4586,0.13311192386709331,0.24299744497027492\r\n",
      "26,2M03324171+3110461,4587,0.30400158997449822,0.19234552832545357\r\n",
      "27,2M03323405+3100557,4587,0.76795299906966086,0.41644969066156395\r\n",
      "28,2M03305252+3054177,4587,1.3356160376835255,0.28920924275138121\r\n",
      "29,2M03304399+3032469,4587,0.28529997542915958,0.10095894066534532\r\n",
      "30,2M03302715+3028297,4587,1.305555103942442,0.40185031301732804\r\n",
      "\n"
     ]
    }
   ],
   "source": [
    "f = open(\"FaintSpectraTest2.csv\", 'wb')\n",
    "try:\n",
    "    writer = csv.writer(f)\n",
    "    writer.writerow( ('#','2M ID', 'Plate ID', 'EqW','StD') )\n",
    "    for i in range(len(x)):\n",
    "        writer.writerow( (i,x[i][0], x[i][1],x[i][2],x[i][3]) )\n",
    "finally:\n",
    "    f.close()\n",
    "\n",
    "print open(\"FaintSpectraTest2.csv\", 'rt').read()"
   ]
  },
  {
   "cell_type": "markdown",
   "metadata": {},
   "source": [
    "## 2M03434449+3143092"
   ]
  },
  {
   "cell_type": "code",
   "execution_count": 17,
   "metadata": {
    "collapsed": false
   },
   "outputs": [
    {
     "data": {
      "text/plain": [
       "('2M03434449+3143092', 4586, 7.9898370160982104, 2.2593946604125996)"
      ]
     },
     "execution_count": 17,
     "metadata": {},
     "output_type": "execute_result"
    }
   ],
   "source": [
    "Equiv_Width(4586,'2M03434449+3143092')"
   ]
  },
  {
   "cell_type": "markdown",
   "metadata": {},
   "source": [
    "## 2M03250943+3046215"
   ]
  },
  {
   "cell_type": "code",
   "execution_count": 18,
   "metadata": {
    "collapsed": false
   },
   "outputs": [
    {
     "data": {
      "text/plain": [
       "('2M03250943+3046215', 4587, 2.0698771175336788, 0.63694837387889458)"
      ]
     },
     "execution_count": 18,
     "metadata": {},
     "output_type": "execute_result"
    }
   ],
   "source": [
    "Equiv_Width(4587,'2M03250943+3046215')"
   ]
  },
  {
   "cell_type": "markdown",
   "metadata": {},
   "source": [
    "## 2M03295403+3120529"
   ]
  },
  {
   "cell_type": "code",
   "execution_count": 19,
   "metadata": {
    "collapsed": false
   },
   "outputs": [
    {
     "data": {
      "text/plain": [
       "('2M03295403+3120529', 4587, 1.1320212439900745, 0.21907225864023644)"
      ]
     },
     "execution_count": 19,
     "metadata": {},
     "output_type": "execute_result"
    }
   ],
   "source": [
    "Equiv_Width(4587,'2M03295403+3120529')"
   ]
  },
  {
   "cell_type": "markdown",
   "metadata": {},
   "source": [
    "## 2M06413876+0932117"
   ]
  },
  {
   "cell_type": "code",
   "execution_count": 20,
   "metadata": {
    "collapsed": false
   },
   "outputs": [
    {
     "data": {
      "text/plain": [
       "('2M06413876+0932117', 4572, 1.8984536264315228, 0.36950878685894351)"
      ]
     },
     "execution_count": 20,
     "metadata": {},
     "output_type": "execute_result"
    }
   ],
   "source": [
    "Equiv_Width(4572,'2M06413876+0932117')"
   ]
  },
  {
   "cell_type": "markdown",
   "metadata": {},
   "source": [
    "## 2M06410890+0929451"
   ]
  },
  {
   "cell_type": "code",
   "execution_count": 21,
   "metadata": {
    "collapsed": false
   },
   "outputs": [
    {
     "data": {
      "text/plain": [
       "('2M06410890+0929451', 4572, 3.1921949984133882, 0.55159746179534608)"
      ]
     },
     "execution_count": 21,
     "metadata": {},
     "output_type": "execute_result"
    }
   ],
   "source": [
    "Equiv_Width(4572,'2M06410890+0929451')"
   ]
  },
  {
   "cell_type": "markdown",
   "metadata": {},
   "source": [
    "## 2M06410715+0927294"
   ]
  },
  {
   "cell_type": "code",
   "execution_count": 22,
   "metadata": {
    "collapsed": false
   },
   "outputs": [
    {
     "data": {
      "text/plain": [
       "('2M06410715+0927294', 4572, 0.22753420433440119, 0.70494264559097786)"
      ]
     },
     "execution_count": 22,
     "metadata": {},
     "output_type": "execute_result"
    }
   ],
   "source": [
    "Equiv_Width(4572,'2M06410715+0927294')"
   ]
  },
  {
   "cell_type": "markdown",
   "metadata": {},
   "source": [
    "## 2M06405639+0935533"
   ]
  },
  {
   "cell_type": "code",
   "execution_count": 23,
   "metadata": {
    "collapsed": false
   },
   "outputs": [
    {
     "data": {
      "text/plain": [
       "('2M06405639+0935533', 4572, 3.7083618495714052, 0.61930987601473142)"
      ]
     },
     "execution_count": 23,
     "metadata": {},
     "output_type": "execute_result"
    }
   ],
   "source": [
    "Equiv_Width(4572,'2M06405639+0935533')"
   ]
  },
  {
   "cell_type": "markdown",
   "metadata": {},
   "source": [
    "## 2M06405426+0949203"
   ]
  },
  {
   "cell_type": "code",
   "execution_count": 24,
   "metadata": {
    "collapsed": false
   },
   "outputs": [
    {
     "data": {
      "text/plain": [
       "('2M06405426+0949203', 4572, 0.86631283116952496, 0.31645245392345367)"
      ]
     },
     "execution_count": 24,
     "metadata": {},
     "output_type": "execute_result"
    }
   ],
   "source": [
    "Equiv_Width(4572,'2M06405426+0949203')"
   ]
  },
  {
   "cell_type": "markdown",
   "metadata": {},
   "source": [
    "## 2M06404837+0948385"
   ]
  },
  {
   "cell_type": "code",
   "execution_count": 25,
   "metadata": {
    "collapsed": false
   },
   "outputs": [
    {
     "data": {
      "text/plain": [
       "('2M06404837+0948385', 4572, 1.365373392214839, 0.84365395159920009)"
      ]
     },
     "execution_count": 25,
     "metadata": {},
     "output_type": "execute_result"
    }
   ],
   "source": [
    "Equiv_Width(4572,'2M06404837+0948385')"
   ]
  },
  {
   "cell_type": "markdown",
   "metadata": {},
   "source": [
    "## 2M06403934+0934455"
   ]
  },
  {
   "cell_type": "code",
   "execution_count": 26,
   "metadata": {
    "collapsed": false
   },
   "outputs": [
    {
     "data": {
      "text/plain": [
       "('2M06403934+0934455', 4572, 0.47407172061032232, 0.14044376435364542)"
      ]
     },
     "execution_count": 26,
     "metadata": {},
     "output_type": "execute_result"
    }
   ],
   "source": [
    "Equiv_Width(4572,'2M06403934+0934455')"
   ]
  },
  {
   "cell_type": "markdown",
   "metadata": {},
   "source": [
    "## 2M06403665+0952032"
   ]
  },
  {
   "cell_type": "code",
   "execution_count": 27,
   "metadata": {
    "collapsed": false
   },
   "outputs": [
    {
     "data": {
      "text/plain": [
       "('2M06403665+0952032', 4572, 3.3178808164380511, 0.74372091406306284)"
      ]
     },
     "execution_count": 27,
     "metadata": {},
     "output_type": "execute_result"
    }
   ],
   "source": [
    "Equiv_Width(4572,'2M06403665+0952032')"
   ]
  },
  {
   "cell_type": "markdown",
   "metadata": {},
   "source": [
    "## 2M06402926+0926114"
   ]
  },
  {
   "cell_type": "code",
   "execution_count": 28,
   "metadata": {
    "collapsed": false
   },
   "outputs": [
    {
     "data": {
      "text/plain": [
       "('2M06402926+0926114', 4572, 0.27648737273880608, 0.20842812482359555)"
      ]
     },
     "execution_count": 28,
     "metadata": {},
     "output_type": "execute_result"
    }
   ],
   "source": [
    "Equiv_Width(4572,'2M06402926+0926114')"
   ]
  },
  {
   "cell_type": "markdown",
   "metadata": {},
   "source": [
    "## 2M06401370+0956305"
   ]
  },
  {
   "cell_type": "code",
   "execution_count": 29,
   "metadata": {
    "collapsed": false
   },
   "outputs": [
    {
     "data": {
      "text/plain": [
       "('2M06401370+0956305', 4572, 1.89738531218718, 0.31132525334895894)"
      ]
     },
     "execution_count": 29,
     "metadata": {},
     "output_type": "execute_result"
    }
   ],
   "source": [
    "Equiv_Width(4572,'2M06401370+0956305')"
   ]
  },
  {
   "cell_type": "markdown",
   "metadata": {},
   "source": [
    "## 2M03474160+3251437"
   ]
  },
  {
   "cell_type": "code",
   "execution_count": 30,
   "metadata": {
    "collapsed": false
   },
   "outputs": [
    {
     "data": {
      "text/plain": [
       "('2M03474160+3251437', 4586, 1.8661530609218397, 0.33391013988714147)"
      ]
     },
     "execution_count": 30,
     "metadata": {},
     "output_type": "execute_result"
    }
   ],
   "source": [
    "Equiv_Width(4586,'2M03474160+3251437')"
   ]
  },
  {
   "cell_type": "markdown",
   "metadata": {},
   "source": [
    "## 2M03451634+3206199"
   ]
  },
  {
   "cell_type": "code",
   "execution_count": 31,
   "metadata": {
    "collapsed": false
   },
   "outputs": [
    {
     "data": {
      "text/plain": [
       "('2M03451634+3206199', 4586, 2.2557351107127417, 0.69336140772647414)"
      ]
     },
     "execution_count": 31,
     "metadata": {},
     "output_type": "execute_result"
    }
   ],
   "source": [
    "Equiv_Width(4586,'2M03451634+3206199')"
   ]
  },
  {
   "cell_type": "markdown",
   "metadata": {},
   "source": [
    "## 2M03442972+3210398"
   ]
  },
  {
   "cell_type": "code",
   "execution_count": 32,
   "metadata": {
    "collapsed": false
   },
   "outputs": [
    {
     "data": {
      "text/plain": [
       "('2M03442972+3210398', 4586, 1.5211254495575222, 0.92941079544175964)"
      ]
     },
     "execution_count": 32,
     "metadata": {},
     "output_type": "execute_result"
    }
   ],
   "source": [
    "Equiv_Width(4586,'2M03442972+3210398')"
   ]
  },
  {
   "cell_type": "markdown",
   "metadata": {},
   "source": [
    "## 2M03442789+3227189"
   ]
  },
  {
   "cell_type": "code",
   "execution_count": 33,
   "metadata": {
    "collapsed": false
   },
   "outputs": [
    {
     "data": {
      "text/plain": [
       "('2M03442789+3227189', 4586, 0.31863957059118631, 0.3618378722498134)"
      ]
     },
     "execution_count": 33,
     "metadata": {},
     "output_type": "execute_result"
    }
   ],
   "source": [
    "Equiv_Width(4586,'2M03442789+3227189')"
   ]
  },
  {
   "cell_type": "markdown",
   "metadata": {},
   "source": [
    "## 2M03442602+3204304"
   ]
  },
  {
   "cell_type": "code",
   "execution_count": 34,
   "metadata": {
    "collapsed": false
   },
   "outputs": [
    {
     "data": {
      "text/plain": [
       "('2M03442602+3204304', 4586, 0.20143478442687873, 0.2271789062131899)"
      ]
     },
     "execution_count": 34,
     "metadata": {},
     "output_type": "execute_result"
    }
   ],
   "source": [
    "Equiv_Width(4586,'2M03442602+3204304')"
   ]
  },
  {
   "cell_type": "markdown",
   "metadata": {},
   "source": [
    "## 2M03441857+3212530"
   ]
  },
  {
   "cell_type": "code",
   "execution_count": 35,
   "metadata": {
    "collapsed": false
   },
   "outputs": [
    {
     "data": {
      "text/plain": [
       "('2M03441857+3212530', 4586, 1.4491485370441208, 0.31366774822328902)"
      ]
     },
     "execution_count": 35,
     "metadata": {},
     "output_type": "execute_result"
    }
   ],
   "source": [
    "Equiv_Width(4586,'2M03441857+3212530')"
   ]
  },
  {
   "cell_type": "markdown",
   "metadata": {},
   "source": [
    "## 2M03435907+3214213"
   ]
  },
  {
   "cell_type": "code",
   "execution_count": 36,
   "metadata": {
    "collapsed": false
   },
   "outputs": [
    {
     "data": {
      "text/plain": [
       "('2M03435907+3214213', 4586, 3.3171896859749577, 0.41926282115071251)"
      ]
     },
     "execution_count": 36,
     "metadata": {},
     "output_type": "execute_result"
    }
   ],
   "source": [
    "Equiv_Width(4586,'2M03435907+3214213')"
   ]
  },
  {
   "cell_type": "markdown",
   "metadata": {},
   "source": [
    "## 2M03435856+3217275"
   ]
  },
  {
   "cell_type": "code",
   "execution_count": 37,
   "metadata": {
    "collapsed": false
   },
   "outputs": [
    {
     "data": {
      "text/plain": [
       "('2M03435856+3217275', 4586, 1.0177380236797227, 0.29731824649249061)"
      ]
     },
     "execution_count": 37,
     "metadata": {},
     "output_type": "execute_result"
    }
   ],
   "source": [
    "Equiv_Width(4586,'2M03435856+3217275')"
   ]
  },
  {
   "cell_type": "markdown",
   "metadata": {},
   "source": [
    "## 2M03434517+3203585"
   ]
  },
  {
   "cell_type": "code",
   "execution_count": 38,
   "metadata": {
    "collapsed": false
   },
   "outputs": [
    {
     "data": {
      "text/plain": [
       "('2M03434517+3203585', 4586, 1.1734603902994223, 0.46646213594067526)"
      ]
     },
     "execution_count": 38,
     "metadata": {},
     "output_type": "execute_result"
    }
   ],
   "source": [
    "Equiv_Width(4586,'2M03434517+3203585')"
   ]
  },
  {
   "cell_type": "markdown",
   "metadata": {},
   "source": [
    "## 2M03434449+3143092"
   ]
  },
  {
   "cell_type": "code",
   "execution_count": 39,
   "metadata": {
    "collapsed": false
   },
   "outputs": [
    {
     "data": {
      "text/plain": [
       "('2M03434449+3143092', 4586, 7.9898370160982104, 2.2593946604125996)"
      ]
     },
     "execution_count": 39,
     "metadata": {},
     "output_type": "execute_result"
    }
   ],
   "source": [
    "Equiv_Width(4586,'2M03434449+3143092')"
   ]
  },
  {
   "cell_type": "markdown",
   "metadata": {},
   "source": [
    "## 2M03432820+3201591"
   ]
  },
  {
   "cell_type": "code",
   "execution_count": 40,
   "metadata": {
    "collapsed": false
   },
   "outputs": [
    {
     "data": {
      "text/plain": [
       "('2M03432820+3201591', 4586, 0.75648406081534914, 0.33114174094780108)"
      ]
     },
     "execution_count": 40,
     "metadata": {},
     "output_type": "execute_result"
    }
   ],
   "source": [
    "Equiv_Width(4586,'2M03432820+3201591')"
   ]
  },
  {
   "cell_type": "markdown",
   "metadata": {},
   "source": [
    "## 2M03432222+3146136"
   ]
  },
  {
   "cell_type": "code",
   "execution_count": 41,
   "metadata": {
    "collapsed": false
   },
   "outputs": [
    {
     "data": {
      "text/plain": [
       "('2M03432222+3146136', 4586, 1.1958276693230541, 0.32014460446396314)"
      ]
     },
     "execution_count": 41,
     "metadata": {},
     "output_type": "execute_result"
    }
   ],
   "source": [
    "Equiv_Width(4586,'2M03432222+3146136')"
   ]
  },
  {
   "cell_type": "markdown",
   "metadata": {},
   "source": [
    "## 2M03421927+3143269"
   ]
  },
  {
   "cell_type": "code",
   "execution_count": 42,
   "metadata": {
    "collapsed": false
   },
   "outputs": [
    {
     "data": {
      "text/plain": [
       "('2M03421927+3143269', 4586, 0.13311192386709331, 0.24299744497027492)"
      ]
     },
     "execution_count": 42,
     "metadata": {},
     "output_type": "execute_result"
    }
   ],
   "source": [
    "Equiv_Width(4586,'2M03421927+3143269')"
   ]
  },
  {
   "cell_type": "markdown",
   "metadata": {},
   "source": [
    "## 2M03324171+3110461"
   ]
  },
  {
   "cell_type": "code",
   "execution_count": 43,
   "metadata": {
    "collapsed": false
   },
   "outputs": [
    {
     "data": {
      "text/plain": [
       "('2M03324171+3110461', 4587, 0.30400158997449822, 0.19234552832545357)"
      ]
     },
     "execution_count": 43,
     "metadata": {},
     "output_type": "execute_result"
    }
   ],
   "source": [
    "Equiv_Width(4587,'2M03324171+3110461')"
   ]
  },
  {
   "cell_type": "markdown",
   "metadata": {},
   "source": [
    "## 2M03323405+3100557"
   ]
  },
  {
   "cell_type": "code",
   "execution_count": 44,
   "metadata": {
    "collapsed": false
   },
   "outputs": [
    {
     "data": {
      "text/plain": [
       "('2M03323405+3100557', 4587, 0.76795299906966086, 0.41644969066156395)"
      ]
     },
     "execution_count": 44,
     "metadata": {},
     "output_type": "execute_result"
    }
   ],
   "source": [
    "Equiv_Width(4587,'2M03323405+3100557')"
   ]
  },
  {
   "cell_type": "markdown",
   "metadata": {},
   "source": [
    "## 2M03305252+3054177"
   ]
  },
  {
   "cell_type": "code",
   "execution_count": 45,
   "metadata": {
    "collapsed": false
   },
   "outputs": [
    {
     "data": {
      "text/plain": [
       "('2M03305252+3054177', 4587, 1.3356160376835255, 0.28920924275138121)"
      ]
     },
     "execution_count": 45,
     "metadata": {},
     "output_type": "execute_result"
    }
   ],
   "source": [
    "Equiv_Width(4587,'2M03305252+3054177')"
   ]
  },
  {
   "cell_type": "markdown",
   "metadata": {},
   "source": [
    "## 2M03304399+3032469"
   ]
  },
  {
   "cell_type": "code",
   "execution_count": 46,
   "metadata": {
    "collapsed": false
   },
   "outputs": [
    {
     "data": {
      "text/plain": [
       "('2M03304399+3032469', 4587, 0.28529997542915958, 0.10095894066534532)"
      ]
     },
     "execution_count": 46,
     "metadata": {},
     "output_type": "execute_result"
    }
   ],
   "source": [
    "Equiv_Width(4587,'2M03304399+3032469')"
   ]
  },
  {
   "cell_type": "markdown",
   "metadata": {},
   "source": [
    "## 2M03302715+3028297"
   ]
  },
  {
   "cell_type": "code",
   "execution_count": 47,
   "metadata": {
    "collapsed": false
   },
   "outputs": [
    {
     "data": {
      "text/plain": [
       "('2M03302715+3028297', 4587, 1.305555103942442, 0.40185031301732804)"
      ]
     },
     "execution_count": 47,
     "metadata": {},
     "output_type": "execute_result"
    }
   ],
   "source": [
    "Equiv_Width(4587,'2M03302715+3028297')"
   ]
  }
 ],
 "metadata": {
  "anaconda-cloud": {},
  "kernelspec": {
   "display_name": "Python [Root]",
   "language": "python",
   "name": "Python [Root]"
  },
  "language_info": {
   "codemirror_mode": {
    "name": "ipython",
    "version": 2
   },
   "file_extension": ".py",
   "mimetype": "text/x-python",
   "name": "python",
   "nbconvert_exporter": "python",
   "pygments_lexer": "ipython2",
   "version": "2.7.12"
  }
 },
 "nbformat": 4,
 "nbformat_minor": 0
}
