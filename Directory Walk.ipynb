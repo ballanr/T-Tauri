{
 "cells": [
  {
   "cell_type": "markdown",
   "metadata": {
    "collapsed": true
   },
   "source": [
    "## Directory Walk"
   ]
  },
  {
   "cell_type": "code",
   "execution_count": 1,
   "metadata": {
    "collapsed": false
   },
   "outputs": [],
   "source": [
    "import os\n",
    "import numpy\n",
    "import csv"
   ]
  },
  {
   "cell_type": "code",
   "execution_count": 2,
   "metadata": {
    "collapsed": false
   },
   "outputs": [],
   "source": [
    "#Old file writer, keeping just in case. Don't use this!\n",
    "def Dir_Walk_File(savefile):\n",
    "        \n",
    "    #OUTPUT\n",
    "    f = open(savefile, 'w')\n",
    "    try:\n",
    "        writer = csv.writer(f,delimiter='\\t',lineterminator='\\n\\n')\n",
    "        for i in range(len(entire_list)):\n",
    "                \n",
    "                for j in range(len(entire_list[i])):\n",
    "                    if j != 0:\n",
    "                        writer.writerow((entire_list[i][j][10:27],entire_list[i][0],entire_list[i][j],entire_list[i][0]+'/'+entire_list[i][j]))\n",
    "    finally:\n",
    "        f.close()"
   ]
  },
  {
   "cell_type": "code",
   "execution_count": null,
   "metadata": {
    "collapsed": false
   },
   "outputs": [],
   "source": [
    "Dir_Walk_File('durr.csv')"
   ]
  },
  {
   "cell_type": "markdown",
   "metadata": {},
   "source": [
    "# Correct List Function"
   ]
  },
  {
   "cell_type": "code",
   "execution_count": 5,
   "metadata": {
    "collapsed": false
   },
   "outputs": [],
   "source": [
    "#Making a list of the files on the server to use\n",
    "directory = '/Volumes/CoveyData/APOGEE_Spectra/python_DR13/dr13/apogee/spectro/redux/r6/stars/apo25m/'\n",
    "entire_list=[]\n",
    "\n",
    "for root,subfolders,filenames in os.walk(directory):\n",
    "    for subfolder in subfolders:\n",
    "        #if subfolder == '1':\n",
    "        array_list=[]\n",
    "        if len(os.listdir(directory+subfolder)) != 0:\n",
    "            array_list.append(subfolder)\n",
    "            for i in os.listdir(directory+subfolder):\n",
    "                if len(i) == 33:\n",
    "                    array_list.append(i)\n",
    "                    #print(os.listdir(directory+subfolder)[i])\n",
    "            entire_list.append(array_list)\n",
    "                "
   ]
  },
  {
   "cell_type": "markdown",
   "metadata": {
    "collapsed": true
   },
   "source": [
    "# Testing Out DictReader"
   ]
  },
  {
   "cell_type": "code",
   "execution_count": 12,
   "metadata": {
    "collapsed": false
   },
   "outputs": [],
   "source": [
    "def DictWriter(savefile):\n",
    "    with open(savefile, 'w') as csvfile:\n",
    "        fieldnames = ['2Mass ID', 'Location ID','File Name', 'File Path']\n",
    "        writer = csv.DictWriter(csvfile,delimiter='\\t', fieldnames=fieldnames)\n",
    "\n",
    "        writer.writeheader()\n",
    "        for i in range(len(entire_list)):\n",
    "            for j in range(len(entire_list[i])):\n",
    "                if j!= 0:\n",
    "                    writer.writerow({'2Mass ID': entire_list[i][j][10:27], \n",
    "                                    'Location ID': entire_list[i][0],\n",
    "                                    'File Name':entire_list[i][j],\n",
    "                                    'File Path':entire_list[i][0]+'/'+entire_list[i][j]})\n",
    "    savefile.close()"
   ]
  },
  {
   "cell_type": "code",
   "execution_count": 13,
   "metadata": {
    "collapsed": false
   },
   "outputs": [],
   "source": [
    "DictWriter('doop.csv')"
   ]
  },
  {
   "cell_type": "code",
   "execution_count": null,
   "metadata": {
    "collapsed": false
   },
   "outputs": [],
   "source": [
    "with open('doop.csv') as csvfile:\n",
    "    reader = csv.DictReader(csvfile,delimiter='\\t')\n",
    "    for row in reader:\n",
    "        print(row['2Mass ID'], row['Location ID'])"
   ]
  },
  {
   "cell_type": "code",
   "execution_count": null,
   "metadata": {
    "collapsed": true
   },
   "outputs": [],
   "source": []
  }
 ],
 "metadata": {
  "anaconda-cloud": {},
  "kernelspec": {
   "display_name": "Python 3",
   "language": "python",
   "name": "python3"
  },
  "language_info": {
   "codemirror_mode": {
    "name": "ipython",
    "version": 3
   },
   "file_extension": ".py",
   "mimetype": "text/x-python",
   "name": "python",
   "nbconvert_exporter": "python",
   "pygments_lexer": "ipython3",
   "version": "3.6.0"
  }
 },
 "nbformat": 4,
 "nbformat_minor": 0
}
