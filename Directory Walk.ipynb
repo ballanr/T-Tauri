{
 "cells": [
  {
   "cell_type": "markdown",
   "metadata": {
    "collapsed": true
   },
   "source": [
    "## Directory Walk"
   ]
  },
  {
   "cell_type": "code",
   "execution_count": 1,
   "metadata": {
    "collapsed": false
   },
   "outputs": [],
   "source": [
    "import os\n",
    "import numpy\n",
    "import csv"
   ]
  },
  {
   "cell_type": "code",
   "execution_count": 2,
   "metadata": {
    "collapsed": false
   },
   "outputs": [],
   "source": [
    "def Dir_Walk_File(savefile):\n",
    "        \n",
    "    #OUTPUT\n",
    "    f = open(savefile, 'w')\n",
    "    try:\n",
    "        writer = csv.writer(f,delimiter='\\t',lineterminator='\\n\\n')\n",
    "        for i in range(len(full_list)):\n",
    "                \n",
    "                for j in range(len(full_list[i])):\n",
    "                    writer.writerow((0,0,full_list[i][j][10:27],full_list[i][0],full_list[i][j],full_list[i][0]+'/'+full_list[i][j]))\n",
    "    finally:\n",
    "        f.close()"
   ]
  },
  {
   "cell_type": "code",
   "execution_count": 4,
   "metadata": {
    "collapsed": false
   },
   "outputs": [],
   "source": [
    "directory = '/Volumes/CoveyData/APOGEE_Spectra/python_DR13/dr13/apogee/spectro/redux/r6/stars/apo25m/'\n",
    "full_list=[]\n",
    "dirs=[]\n",
    "for root,subfolders,filenames in os.walk(directory):\n",
    "    dirs += subfolders\n",
    "    for subfolder in subfolders:\n",
    "        \n",
    "        full_list.append(os.listdir(directory+subfolder))\n",
    "        \n",
    "    break\n",
    "for i in range(len(full_list)):\n",
    "    full_list[i].insert(0,dirs[i])"
   ]
  },
  {
   "cell_type": "code",
   "execution_count": 13,
   "metadata": {
    "collapsed": false
   },
   "outputs": [],
   "source": [
    "Dir_Walk_File('durr.csv')"
   ]
  },
  {
   "cell_type": "code",
   "execution_count": 13,
   "metadata": {
    "collapsed": false
   },
   "outputs": [],
   "source": [
    "#broken\n",
    "directory = '/Volumes/CoveyData/APOGEE_Spectra/python_DR13/dr13/apogee/spectro/redux/r6/stars/apo25m/'\n",
    "blah=[]\n",
    "a=[]\n",
    "for root,subfolders,filenames in os.walk(directory):\n",
    "    for subfolder in subfolders:\n",
    "        #if subfolder == '1':\n",
    "        if len(os.listdir(directory+subfolder)) != 0:\n",
    "            for i in os.listdir(directory+subfolder):\n",
    "                if len(i) == 33:\n",
    "                    blah.append(i)\n",
    "                    #print(os.listdir(directory+subfolder)[i])\n",
    "                "
   ]
  },
  {
   "cell_type": "code",
   "execution_count": 14,
   "metadata": {
    "collapsed": false
   },
   "outputs": [
    {
     "data": {
      "text/plain": [
       "151923"
      ]
     },
     "execution_count": 14,
     "metadata": {},
     "output_type": "execute_result"
    }
   ],
   "source": [
    "len(blah)"
   ]
  },
  {
   "cell_type": "code",
   "execution_count": 15,
   "metadata": {
    "collapsed": false
   },
   "outputs": [
    {
     "data": {
      "text/plain": [
       "443"
      ]
     },
     "execution_count": 15,
     "metadata": {},
     "output_type": "execute_result"
    }
   ],
   "source": [
    "len(full_list)"
   ]
  },
  {
   "cell_type": "code",
   "execution_count": 10,
   "metadata": {
    "collapsed": false
   },
   "outputs": [
    {
     "data": {
      "text/plain": [
       "191"
      ]
     },
     "execution_count": 10,
     "metadata": {},
     "output_type": "execute_result"
    }
   ],
   "source": [
    "len(full_list[0])"
   ]
  },
  {
   "cell_type": "markdown",
   "metadata": {},
   "source": [
    "# Sieve"
   ]
  },
  {
   "cell_type": "code",
   "execution_count": null,
   "metadata": {
    "collapsed": false
   },
   "outputs": [],
   "source": [
    "fits_list=[]\n",
    "for i in range(len(full_list)):\n",
    "    for j in range(len(full_list[i])):\n",
    "        if len(full_list[i][j])==33:\n",
    "            fits_list.append(full_list[i][j])\n",
    "    \n",
    "#for i in range(len(full_list)):\n",
    "    #for j in range(len(full_list[i])):\n",
    "        #if len(full_list[i][j])>34 or len(full_list[i][j])<32:\n",
    "            #full_list.remove(full_list[i][j])\n",
    "            \n",
    "new_list=full_list[(len(full_list[i][j])>32)]"
   ]
  },
  {
   "cell_type": "markdown",
   "metadata": {},
   "source": [
    "# Outputting the list"
   ]
  },
  {
   "cell_type": "code",
   "execution_count": 265,
   "metadata": {
    "collapsed": false
   },
   "outputs": [],
   "source": [
    "Dir_Walk_File('durr.csv')"
   ]
  }
 ],
 "metadata": {
  "anaconda-cloud": {},
  "kernelspec": {
   "display_name": "Python 3",
   "language": "python",
   "name": "python3"
  },
  "language_info": {
   "codemirror_mode": {
    "name": "ipython",
    "version": 3
   },
   "file_extension": ".py",
   "mimetype": "text/x-python",
   "name": "python",
   "nbconvert_exporter": "python",
   "pygments_lexer": "ipython3",
   "version": "3.6.0"
  }
 },
 "nbformat": 4,
 "nbformat_minor": 0
}
