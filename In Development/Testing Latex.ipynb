{
 "cells": [
  {
   "cell_type": "markdown",
   "metadata": {},
   "source": [
    "# Testing Latex"
   ]
  },
  {
   "cell_type": "markdown",
   "metadata": {},
   "source": [
    "## Manual Definitions"
   ]
  },
  {
   "cell_type": "markdown",
   "metadata": {},
   "source": [
    "A simple illustration of Interpolation with Lagrange polynomials:\n",
    "\n",
    "$$\n",
    "L_k(x) = \\prod_{i=0, i \\neq k}^n \\frac{\\left(x-x_i\\right)}{\\left(x_k-x_i\\right)}\n",
    "$$\n",
    "<br>\n",
    "\n",
    "Let's choose $n=2$; define our Lagrange polynomials both explicitly and algorithmically."
   ]
  },
  {
   "cell_type": "markdown",
   "metadata": {},
   "source": [
    "$$\n",
    "L_0(x) = \\frac{(x - 2.5)(x - 4.0)}{(2.0 - 2.5)(2.0 - 4.0)} = x^2 - 6.5x + 10 \\\\\n",
    "L_1(x) = \\frac{(x - 2.0)(x - 4.0)}{(2.5 - 2.0)(2.5 - 4.0)} = \\frac{-4x^2 + 24x - 32}{3} \\\\\n",
    "L_2(x) = \\frac{(x - 2.0)(x - 2.5)}{(4.0 - 2.0)(4.0 - 2.5)} = \\frac{x^2 - 4.5x + 5}{3} \\\\\n",
    "$$"
   ]
  },
  {
   "cell_type": "markdown",
   "metadata": {},
   "source": [
    "To combine the polynomials and actually compute an approximation, we use the formula:\n",
    "\n",
    "$$\n",
    "P(x) = \\sum_{k=0}^2 f(x_k)L_k(x) \\\\\n",
    "$$\n",
    "\n",
    "First, we need to define a function to approximate and the three points at which to approximate it."
   ]
  },
  {
   "cell_type": "markdown",
   "metadata": {
    "collapsed": false
   },
   "source": [
    "$$\n",
    "\\frac{1}{\\lambda}=R_M\\left(\\frac{1}{n_f^2}-\\frac{1}{n_i^2}\\right)\\\\\n",
    "\\begin{matrix}\\text{c} = 299792\\text{ km}\\text{ s}^{-1}&\\text{;}&\n",
    "    R_M = 1.096775834\\times10^{7}\\text{ m}^{-1}&\\text{;}&\n",
    "    n_i = 11&\\text{;}&\n",
    "    n_f = 4\\end{matrix}\\\\\n",
    "\\frac{1}{\\lambda}=1.096775834\\times10^{7}\\text{ m}^{-1}\\left(\\frac{1}{4^2}-\\frac{1}{11^2}\\right)=594842.2653\\text{ m}^{-1}\\\\\n",
    "\\lambda= 1.681117934\\times10^{-6}\\text{ m}\n",
    "$$"
   ]
  },
  {
   "cell_type": "code",
   "execution_count": null,
   "metadata": {
    "collapsed": true
   },
   "outputs": [],
   "source": []
  }
 ],
 "metadata": {
  "kernelspec": {
   "display_name": "Python 3",
   "language": "python",
   "name": "python3"
  },
  "language_info": {
   "codemirror_mode": {
    "name": "ipython",
    "version": 3
   },
   "file_extension": ".py",
   "mimetype": "text/x-python",
   "name": "python",
   "nbconvert_exporter": "python",
   "pygments_lexer": "ipython3",
   "version": "3.6.0"
  }
 },
 "nbformat": 4,
 "nbformat_minor": 0
}
