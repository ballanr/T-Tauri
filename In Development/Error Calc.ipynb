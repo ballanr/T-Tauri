{
 "cells": [
  {
   "cell_type": "markdown",
   "metadata": {},
   "source": [
    "# Error Analysis"
   ]
  },
  {
   "cell_type": "markdown",
   "metadata": {},
   "source": [
    "The equation we use to calculate equivalent width is,\n",
    "\n",
    "$$\n",
    "\\text{EqW} = \\frac{\\text{Area}}{\\text{Continuum}}= \\frac{\\frac{1}{2}(\\lambda_{i+1}-\\lambda_{i})(F_{i+1}+F_{i}-2F_c)}{F_c}\n",
    "$$\n",
    "\n",
    "using the trapezoidal method."
   ]
  },
  {
   "cell_type": "markdown",
   "metadata": {},
   "source": [
    "According to *An Introduction to Error Analysis* by Taylor, to propagate the error through the calculation we need to use two basic methods: one for addition/subtraction and one for multiplication/division."
   ]
  },
  {
   "cell_type": "markdown",
   "metadata": {},
   "source": [
    "### Addition"
   ]
  },
  {
   "cell_type": "markdown",
   "metadata": {},
   "source": [
    "Given,\n",
    "\n",
    "$$\n",
    "q = x + y + a + b\n",
    "$$\n",
    "\n",
    "the uncertainty is\n",
    "\n",
    "$$\n",
    "\\delta q = \\sqrt{(\\delta x)^2 + (\\delta y)^2 + (\\delta a)^2 + (\\delta b)^2}\n",
    "$$\n",
    "\n",
    "or at the most,\n",
    "\n",
    "$$\n",
    "\\delta q \\leq \\delta x + \\delta y + \\delta a + \\delta b\n",
    "$$"
   ]
  },
  {
   "cell_type": "markdown",
   "metadata": {},
   "source": [
    "### Multiplication"
   ]
  },
  {
   "cell_type": "markdown",
   "metadata": {},
   "source": [
    "Given,\n",
    "\n",
    "$$\n",
    "q = \\frac{x\\times y}{a\\times b}\n",
    "$$\n",
    "\n",
    "we have that the fractional uncertainty is \n",
    "\n",
    "$$\n",
    "\\frac{\\delta q}{|q|} = \\sqrt{\\left(\\frac{\\delta a}{a}\\right)+\\left(\\frac{\\delta b}{b}\\right)^2+\\left(\\frac{\\delta x}{x}\\right)^2+\\left(\\frac{\\delta y}{y}\\right)^2}\n",
    "$$\n",
    "\n",
    "or at the most,\n",
    "\n",
    "$$\n",
    "\\frac{\\delta q}{|q|}\\leq \\frac{\\delta a}{|a|} + \\frac{\\delta b}{|b|} + \\frac{\\delta x}{|x|} + \\frac{\\delta y}{|y|}\n",
    "$$"
   ]
  },
  {
   "cell_type": "markdown",
   "metadata": {},
   "source": [
    "### Equivalent Width"
   ]
  },
  {
   "cell_type": "markdown",
   "metadata": {},
   "source": [
    "Let's start from the top and break the calculation into pieces.\n",
    "\n",
    "$$\n",
    "EqW = E = \\frac{A}{F_c}\\\\\n",
    "A = \\sum\\frac{1}{2}(\\lambda_{i+1}-\\lambda_{i})(F_{i+1}+F_{i}-2F_c)\n",
    "$$"
   ]
  },
  {
   "cell_type": "markdown",
   "metadata": {},
   "source": [
    "Now we need to find $\\delta A$ and $\\delta F_c$. To find $\\delta A$ we need to find all the errors in the flux calculations themselves (which we get directly from the APOGEE data). Initially I tried to find an error in the wavelength calculations themselves, but there is no error in the header for the wavelength itself."
   ]
  },
  {
   "cell_type": "markdown",
   "metadata": {},
   "source": [
    "A quick side note; given\n",
    "\n",
    "$$\n",
    "q = Bx\n",
    "$$\n",
    "\n",
    "where B is just a number\n",
    "\n",
    "$$\n",
    "\\delta q = |B|\\delta x\n",
    "$$"
   ]
  },
  {
   "cell_type": "markdown",
   "metadata": {},
   "source": [
    "So $\\delta A$ becomes\n",
    "\n",
    "$$\n",
    "dA = \\sum\\frac{1}{2}\\Delta\\lambda_{i+1,i}\\big[\\delta F_{i+1} + \\delta F_{i} +(2\\cdot\\delta F_c)\\big]\n",
    "$$"
   ]
  },
  {
   "cell_type": "markdown",
   "metadata": {},
   "source": [
    "$\\delta F_c$ is\n",
    "\n",
    "$$\n",
    "\\delta F_c = \\frac{1}{M}\\sum \\delta F_m\n",
    "$$"
   ]
  },
  {
   "cell_type": "markdown",
   "metadata": {},
   "source": [
    "and $F_c$ is\n",
    "\n",
    "$$\n",
    "F_c = \\frac{1}{M}\\sum F_m\n",
    "$$"
   ]
  },
  {
   "cell_type": "markdown",
   "metadata": {},
   "source": [
    "To find the propagated error I decided to use the maximum for both rules instead of the quadrature."
   ]
  },
  {
   "cell_type": "markdown",
   "metadata": {},
   "source": [
    "Putting it all together we get\n",
    "\n",
    "$$\n",
    "E = \\frac{A}{F_c} = \\frac{\\sum\\frac{1}{2}(\\lambda_{i+1}-\\lambda_{i})(F_{i+1}+F_{i}-2F_c)}{\\frac{1}{M}\\sum F_m}\\\\\\\\\n",
    "$$\n",
    "and\n",
    "\n",
    "$$\n",
    "\\frac{\\delta E}{|E|} \\leq \\frac{\\delta A}{|A|} + \\frac{\\delta F_c}{|F_c|}=\\frac{\\sum\\frac{1}{2}\\Delta\\lambda_{i+1,i}\\big[\\delta F_{i+1} + \\delta F_{i} +(2\\cdot\\delta F_c)\\big]}{\\big|\\sum\\frac{1}{2}\\Delta\\lambda_{i+1,i}\\big[F_{i+1}+F_{i}-2F_c\\big]\\big|} + \\frac{\\frac{1}{M}\\sum \\delta F_m}{\\big|\\frac{1}{M}\\sum F_m\\big|}\n",
    "$$"
   ]
  },
  {
   "cell_type": "markdown",
   "metadata": {},
   "source": [
    "So our final equation to calculate the error for each emission line is\n",
    "\n",
    "$$\n",
    "\\delta E \\leq \\big|E\\big|\\left[\\frac{\\sum\\Delta\\lambda_{i+1,i}\\big[\\delta F_{i+1} + \\delta F_{i} +(2\\cdot\\delta F_c)\\big]}{\\big|\\sum\\Delta\\lambda_{i+1,i}\\big[F_{i+1}+F_{i}-2F_c\\big]\\big|} + \\frac{\\sum \\delta F_m}{\\big|\\sum F_m\\big|}\\right]\n",
    "$$"
   ]
  },
  {
   "cell_type": "code",
   "execution_count": null,
   "metadata": {
    "collapsed": true
   },
   "outputs": [],
   "source": []
  }
 ],
 "metadata": {
  "kernelspec": {
   "display_name": "Python 3",
   "language": "python",
   "name": "python3"
  },
  "language_info": {
   "codemirror_mode": {
    "name": "ipython",
    "version": 3
   },
   "file_extension": ".py",
   "mimetype": "text/x-python",
   "name": "python",
   "nbconvert_exporter": "python",
   "pygments_lexer": "ipython3",
   "version": "3.6.0"
  }
 },
 "nbformat": 4,
 "nbformat_minor": 2
}
