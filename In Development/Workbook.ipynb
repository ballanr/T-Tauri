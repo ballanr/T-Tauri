{
 "cells": [
  {
   "cell_type": "code",
   "execution_count": 4,
   "metadata": {
    "collapsed": false
   },
   "outputs": [],
   "source": [
    "#Importing the necessary packages\n",
    "import apogee.tools.read as apread\n",
    "import apogee.spec.plot as splot\n",
    "import numpy as np\n",
    "import matplotlib.pyplot as plt\n",
    "%matplotlib inline\n",
    "Lambda = splot.apStarWavegrid()"
   ]
  },
  {
   "cell_type": "code",
   "execution_count": 5,
   "metadata": {
    "collapsed": true
   },
   "outputs": [],
   "source": [
    "def find_nearest(array,value):\n",
    "    index = (np.abs(array-value)).argmin()\n",
    "    #return array[index]\n",
    "    return index"
   ]
  },
  {
   "cell_type": "code",
   "execution_count": 7,
   "metadata": {
    "collapsed": true
   },
   "outputs": [],
   "source": [
    "loc_id = 4586\n",
    "two_massid='2M03434449+3143092'\n",
    "spec_header = apread.apStar(loc_id,two_massid,ext=0,header=True)\n",
    "spectest1 = apread.apStar(loc_id,two_massid,ext=1,header=False)[3]\n",
    "\n",
    "nvisits = spec_header[1]['NVISITS']\n",
    "vhelio = spec_header[1]['VHELIO']\n",
    "n=11.\n",
    "c = 299792\n",
    "rydberg = 1.0973731568539*(10**7)\n",
    "electron = 9.10938356*(10**-31)\n",
    "nucleus = 1.672621898*(10**-27)\n",
    "fracryd = rydberg/(1+(electron/nucleus))\n",
    "vacuum = fracryd*((1./16.)-(1./(float(n**2))))\n",
    "lambda_obs = 1/vacuum\n",
    "    \n",
    "calculated_point1 = lambda_obs*(1-((vhelio)/c))\n",
    "diff2 = (lambda_obs-calculated_point1)*(10**10)\n",
    "calculated_point2 = calculated_point1*(10**10)\n",
    "\n"
   ]
  },
  {
   "cell_type": "code",
   "execution_count": 9,
   "metadata": {
    "collapsed": false
   },
   "outputs": [
    {
     "data": {
      "text/plain": [
       "1.6811179336200965e-06"
      ]
     },
     "execution_count": 9,
     "metadata": {},
     "output_type": "execute_result"
    }
   ],
   "source": [
    "lambda_obs"
   ]
  },
  {
   "cell_type": "code",
   "execution_count": 23,
   "metadata": {
    "collapsed": false
   },
   "outputs": [
    {
     "data": {
      "text/plain": [
       "7652"
      ]
     },
     "execution_count": 23,
     "metadata": {},
     "output_type": "execute_result"
    }
   ],
   "source": [
    "centerline = find_nearest(Lambda,calculated_point2)\n",
    "centerline"
   ]
  },
  {
   "cell_type": "code",
   "execution_count": 24,
   "metadata": {
    "collapsed": false
   },
   "outputs": [
    {
     "data": {
      "text/plain": [
       "16784.638807415078"
      ]
     },
     "execution_count": 24,
     "metadata": {},
     "output_type": "execute_result"
    }
   ],
   "source": [
    "Lambda[7652]"
   ]
  },
  {
   "cell_type": "code",
   "execution_count": 16,
   "metadata": {
    "collapsed": false
   },
   "outputs": [
    {
     "data": {
      "text/plain": [
       "7562"
      ]
     },
     "execution_count": 16,
     "metadata": {},
     "output_type": "execute_result"
    }
   ],
   "source": [
    "L = centerline - 135\n",
    "L\n",
    "L2 = centerline - 90\n",
    "L2"
   ]
  },
  {
   "cell_type": "code",
   "execution_count": 13,
   "metadata": {
    "collapsed": false
   },
   "outputs": [
    {
     "data": {
      "text/plain": [
       "array([ 15127.28198655,  15127.49061327,  15127.69924288, ...,\n",
       "        17025.81808827,  17026.05294442,  17026.28780381])"
      ]
     },
     "execution_count": 13,
     "metadata": {},
     "output_type": "execute_result"
    }
   ],
   "source": [
    "Lambda2 = Lambda + diff2\n",
    "Lambda2"
   ]
  },
  {
   "cell_type": "code",
   "execution_count": 17,
   "metadata": {
    "collapsed": false
   },
   "outputs": [
    {
     "data": {
      "text/plain": [
       "20.856982487905043"
      ]
     },
     "execution_count": 17,
     "metadata": {},
     "output_type": "execute_result"
    }
   ],
   "source": [
    "Lambda[7652] - Lambda[L2]"
   ]
  },
  {
   "cell_type": "code",
   "execution_count": 20,
   "metadata": {
    "collapsed": false
   },
   "outputs": [
    {
     "data": {
      "text/plain": [
       "90"
      ]
     },
     "execution_count": 20,
     "metadata": {},
     "output_type": "execute_result"
    }
   ],
   "source": [
    "centerline-L2"
   ]
  },
  {
   "cell_type": "code",
   "execution_count": 30,
   "metadata": {
    "collapsed": false
   },
   "outputs": [
    {
     "name": "stdout",
     "output_type": "stream",
     "text": [
      "483.245\n",
      "473.686\n",
      "477.745\n",
      "467.823\n"
     ]
    }
   ],
   "source": [
    "header = apread.apStar(4586,'2M03434449+3143092',ext=0,header=True)\n",
    "for i in range(4):\n",
    "    x = 'VHELIO' + str(i+1)\n",
    "    vhelio = header[1][x]\n",
    "    print(vhelio)"
   ]
  },
  {
   "cell_type": "code",
   "execution_count": 28,
   "metadata": {
    "collapsed": false
   },
   "outputs": [
    {
     "data": {
      "text/plain": [
       "(None, \n",
       " SIMPLE  =                    T /image conforms to FITS standard\n",
       " BITPIX  =                   16 /bits per data value\n",
       " NAXIS   =                    0 /number of axes\n",
       " EXTEND  =                    T /file may contain extensions\n",
       " DATE    = '2016-01-26'         / Creation UTC (CCCC-MM-DD) date of FITS header\n",
       " COMMENT FITS (Flexible Image Transport System) format is defined in 'Astronomy\n",
       " COMMENT and Astrophysics', volume 376, page 359; bibcode 2001A&A...376..359H\n",
       " OBJID   = '2M03434449+3143092' / Object ID\n",
       " J       =              12.3230 / 2MASS J magnitude\n",
       " H       =              10.7850 / 2MASS H magnitude\n",
       " K       =              9.53800 / 2MASS Ks magnitude\n",
       " TARG1   =          -2147352576 / First APOGEE targeting flag (bitwise, see docs)\n",
       " TARG2   =          -2147475456 / Second APOGEE targeting flag (bitwise, see docs\n",
       " TARG3   =                    0 / Third APOGEE targeting flag (bitwise, see docs)\n",
       " SURVEY  = 'apogee  '           / Survey name (for targeting flags)\n",
       " TELESCOP= 'apo25m  '           / Telescope\n",
       " LOCID   =                 4586 / LocationID\n",
       " FIELD   = 'IC348   '           / Field name\n",
       " RA      =        55.9353880000 / right ascension, deg, J2000\n",
       " DEC     =        31.7192310000 / declination, deg, J2000\n",
       " GLON    =        160.647679813 / galactic longitude, deg, J2000\n",
       " GLAT    =       -18.2553236108 / galactic latitude, deg, J2000\n",
       " NVISITS =                   16 / number of visit spectra combined\n",
       " COMMENT MEAN VALUES:\n",
       " VRAD    =              0.00000 / Doppler shift (km/s) of this spectrum\n",
       " VHELIO  =              472.223 / mean heliocentric velocity (km/s)\n",
       " VSCATTER=              12.2974 / STDEV of VHELIO (km/s)\n",
       " VERR    =            0.0359758 / weighted error in VHELIO (km/s)\n",
       " VERR_MED=             0.133162 / median error in VHELIO (km/s)\n",
       " SVHELIO =             -354.991 / mean heliocentric velocity (km/s) from SYNTHVHE\n",
       " SVERR   =              0.00000 / weighted error in SYNTHVHELIO\n",
       " SVERR_ME=              0.00000 / median error of SYNTHVHELIO velocity (km/s) fro\n",
       " SVSCAT  =              12.2974 / STDEV of SYNTHVHELIO (km/s)\n",
       " SYNTHSCA=              0.00000 / STDEV of VHELIO-SYNTHVHELIO (km/s)\n",
       " SNR     =              364.854 / final median Signal/Noise ratio\n",
       " STARFLAG=               134656 / bitwise OR of individual visit starflags\n",
       " ANDFLAG =                    0 / bitwise AND of individual visit starflags\n",
       " MEANFIB =              100.402 / S/N weighted mean fiber number\n",
       " SIGFIB  =              35.1205 / standard deviation (unweighted) of fiber number\n",
       " RVFEH   =             0.320000 / metallicity [Fe/H] from mini-grid cross correla\n",
       " RVTEFF  =              15000.0 / effective temperature (K) from mini-grid cross\n",
       " RVLOGG  =              3.50000 / surface gravity (dex) from mini-grid cross corr\n",
       " RVALPH  =              0.00000 / alpha abundance for mini-grid cross correlation\n",
       " RVCARB  =              0.00000 / carbon abundance for mini-grid cross correlatio\n",
       " CCPFWHM =              777.190 / FWHM of RV CCF of star with template (km/s)\n",
       " AUTOFWHM=              168.020 / FWHM of RV CCF of template with template (km/s)\n",
       " COMMENT VISIT 1 INFORMATION:\n",
       " SFILE1  = 'apVisit-r6-6218-56168-148.fits' / Visit #1 spectrum file\n",
       " DATE1   = '2012-08-29T10:01:22.563' / DATE-OBS of visit 1\n",
       " JD1     =        2456168.94094 / Julian date of visit 1\n",
       " HJD1    =        56168.9414806 / Reduced Heliocentric JD of visit 1\n",
       " FIBER1  =                  148 / Fiber, visit 1\n",
       " BC1     =              28.8468 / Barycentric correction (km/s),visit 1\n",
       " VTYPE1  =                    3 / RV type (1=chisq, 2=xcorr) from visit 1\n",
       " VRAD1   =              454.398 / Doppler shift (km/s) of visit 1\n",
       " VERR1   =             0.123823 / error in VRAD (km/s)\n",
       " VHELIO1 =              483.245 / Heliocentric velocity (km/s), visit 1\n",
       " RVTEFF1 =              15000.0 / effective temperature (K) from visit mini-grid\n",
       " RVLOGG1 =              3.50000 / surface gravity (dex) from visit mini-grid xcor\n",
       " RVFEH1  =             0.320000 / metallicity [Fe/H] from visit mini-grid xcorr\n",
       " RVALPH1 =              0.00000 / alpha abundance from visit mini-grid xcorr\n",
       " RVCARB1 =              0.00000 / carbon abundance from visit mini-grid xcorr\n",
       " SNRVIS1 =              87.6040 / Signal/Noise ratio, visit 1\n",
       " FLAG1   =                    0 / STARFLAG for visit 1\n",
       " COMMENT VISIT 2 INFORMATION:\n",
       " SFILE2  = 'apVisit-r6-6218-56172-094.fits' / Visit #2 spectrum file\n",
       " DATE2   = '2012-09-02T10:48:38.473' / DATE-OBS of visit 2\n",
       " JD2     =        2456172.97376 / Julian date of visit 2\n",
       " HJD2    =        56172.9746851 / Reduced Heliocentric JD of visit 2\n",
       " FIBER2  =                   94 / Fiber, visit 2\n",
       " BC2     =              28.5055 / Barycentric correction (km/s),visit 2\n",
       " VTYPE2  =                    3 / RV type (1=chisq, 2=xcorr) from visit 2\n",
       " VRAD2   =              445.180 / Doppler shift (km/s) of visit 2\n",
       " VERR2   =             0.121808 / error in VRAD (km/s)\n",
       " VHELIO2 =              473.686 / Heliocentric velocity (km/s), visit 2\n",
       " RVTEFF2 =              15000.0 / effective temperature (K) from visit mini-grid\n",
       " RVLOGG2 =              3.50000 / surface gravity (dex) from visit mini-grid xcor\n",
       " RVFEH2  =             0.320000 / metallicity [Fe/H] from visit mini-grid xcorr\n",
       " RVALPH2 =              0.00000 / alpha abundance from visit mini-grid xcorr\n",
       " RVCARB2 =              0.00000 / carbon abundance from visit mini-grid xcorr\n",
       " SNRVIS2 =              100.034 / Signal/Noise ratio, visit 2\n",
       " FLAG2   =                 2048 / STARFLAG for visit 2\n",
       " COMMENT VISIT 3 INFORMATION:\n",
       " SFILE3  = 'apVisit-r6-6219-56170-101.fits' / Visit #3 spectrum file\n",
       " DATE3   = '2012-08-31T09:01:42.483' / DATE-OBS of visit 3\n",
       " JD3     =        2456170.89950 / Julian date of visit 3\n",
       " HJD3    =        56170.9002278 / Reduced Heliocentric JD of visit 3\n",
       " FIBER3  =                  101 / Fiber, visit 3\n",
       " BC3     =              28.8033 / Barycentric correction (km/s),visit 3\n",
       " VTYPE3  =                    3 / RV type (1=chisq, 2=xcorr) from visit 3\n",
       " VRAD3   =              448.942 / Doppler shift (km/s) of visit 3\n",
       " VERR3   =             0.132769 / error in VRAD (km/s)\n",
       " VHELIO3 =              477.745 / Heliocentric velocity (km/s), visit 3\n",
       " RVTEFF3 =              15000.0 / effective temperature (K) from visit mini-grid\n",
       " RVLOGG3 =              3.50000 / surface gravity (dex) from visit mini-grid xcor\n",
       " RVFEH3  =             0.320000 / metallicity [Fe/H] from visit mini-grid xcorr\n",
       " RVALPH3 =              0.00000 / alpha abundance from visit mini-grid xcorr\n",
       " RVCARB3 =              0.00000 / carbon abundance from visit mini-grid xcorr\n",
       " SNRVIS3 =              76.0061 / Signal/Noise ratio, visit 3\n",
       " FLAG3   =                 2048 / STARFLAG for visit 3\n",
       " COMMENT VISIT 4 INFORMATION:\n",
       " SFILE4  = 'apVisit-r6-6219-56174-104.fits' / Visit #4 spectrum file\n",
       " DATE4   = '2012-09-04T09:42:43.594' / DATE-OBS of visit 4\n",
       " JD4     =        2456174.92569 / Julian date of visit 4\n",
       " HJD4    =        56174.9267998 / Reduced Heliocentric JD of visit 4\n",
       " FIBER4  =                  104 / Fiber, visit 4\n",
       " BC4     =              28.4228 / Barycentric correction (km/s),visit 4\n",
       " VTYPE4  =                    3 / RV type (1=chisq, 2=xcorr) from visit 4\n",
       " VRAD4   =              439.401 / Doppler shift (km/s) of visit 4\n",
       " VERR4   =             0.139209 / error in VRAD (km/s)\n",
       " VHELIO4 =              467.823 / Heliocentric velocity (km/s), visit 4\n",
       " RVTEFF4 =              15000.0 / effective temperature (K) from visit mini-grid\n",
       " RVLOGG4 =              3.50000 / surface gravity (dex) from visit mini-grid xcor\n",
       " RVFEH4  =             0.320000 / metallicity [Fe/H] from visit mini-grid xcorr\n",
       " RVALPH4 =              0.00000 / alpha abundance from visit mini-grid xcorr\n",
       " RVCARB4 =              0.00000 / carbon abundance from visit mini-grid xcorr\n",
       " SNRVIS4 =              64.8274 / Signal/Noise ratio, visit 4\n",
       " FLAG4   =                 2048 / STARFLAG for visit 4\n",
       " COMMENT VISIT 5 INFORMATION:\n",
       " SFILE5  = 'apVisit-r6-6220-56171-148.fits' / Visit #5 spectrum file\n",
       " DATE5   = '2012-09-01T10:39:59.669' / DATE-OBS of visit 5\n",
       " JD5     =        2456171.97567 / Julian date of visit 5\n",
       " HJD5    =        56171.9765003 / Reduced Heliocentric JD of visit 5\n",
       " FIBER5  =                  148 / Fiber, visit 5\n",
       " BC5     =              28.5816 / Barycentric correction (km/s),visit 5\n",
       " VTYPE5  =                    3 / RV type (1=chisq, 2=xcorr) from visit 5\n",
       " VRAD5   =              442.191 / Doppler shift (km/s) of visit 5\n",
       " VERR5   =             0.118225 / error in VRAD (km/s)\n",
       " VHELIO5 =              470.773 / Heliocentric velocity (km/s), visit 5\n",
       " RVTEFF5 =              15000.0 / effective temperature (K) from visit mini-grid\n",
       " RVLOGG5 =              3.50000 / surface gravity (dex) from visit mini-grid xcor\n",
       " RVFEH5  =             0.320000 / metallicity [Fe/H] from visit mini-grid xcorr\n",
       " RVALPH5 =              0.00000 / alpha abundance from visit mini-grid xcorr\n",
       " RVCARB5 =              0.00000 / carbon abundance from visit mini-grid xcorr\n",
       " SNRVIS5 =              93.2706 / Signal/Noise ratio, visit 5\n",
       " FLAG5   =                    0 / STARFLAG for visit 5\n",
       " COMMENT VISIT 6 INFORMATION:\n",
       " SFILE6  = 'apVisit-r6-6221-56235-095.fits' / Visit #6 spectrum file\n",
       " DATE6   = '2012-11-04T06:00:48.011' / DATE-OBS of visit 6\n",
       " JD6     =        2456235.77387 / Julian date of visit 6\n",
       " HJD6    =        56235.7791792 / Reduced Heliocentric JD of visit 6\n",
       " FIBER6  =                   95 / Fiber, visit 6\n",
       " BC6     =              9.20358 / Barycentric correction (km/s),visit 6\n",
       " VTYPE6  =                    3 / RV type (1=chisq, 2=xcorr) from visit 6\n",
       " VRAD6   =              467.958 / Doppler shift (km/s) of visit 6\n",
       " VERR6   =             0.114060 / error in VRAD (km/s)\n",
       " VHELIO6 =              477.162 / Heliocentric velocity (km/s), visit 6\n",
       " RVTEFF6 =              15000.0 / effective temperature (K) from visit mini-grid\n",
       " RVLOGG6 =              3.50000 / surface gravity (dex) from visit mini-grid xcor\n",
       " RVFEH6  =             0.320000 / metallicity [Fe/H] from visit mini-grid xcorr\n",
       " RVALPH6 =              0.00000 / alpha abundance from visit mini-grid xcorr\n",
       " RVCARB6 =              0.00000 / carbon abundance from visit mini-grid xcorr\n",
       " SNRVIS6 =              116.599 / Signal/Noise ratio, visit 6\n",
       " FLAG6   =                 2048 / STARFLAG for visit 6\n",
       " COMMENT VISIT 7 INFORMATION:\n",
       " SFILE7  = 'apVisit-r6-6222-56262-143.fits' / Visit #7 spectrum file\n",
       " DATE7   = '2012-12-01T03:39:01.533' / DATE-OBS of visit 7\n",
       " JD7     =        2456262.68335 / Julian date of visit 7\n",
       " HJD7    =        56262.6888684 / Reduced Heliocentric JD of visit 7\n",
       " FIBER7  =                  143 / Fiber, visit 7\n",
       " BC7     =             -4.39292 / Barycentric correction (km/s),visit 7\n",
       " VTYPE7  =                    3 / RV type (1=chisq, 2=xcorr) from visit 7\n",
       " VRAD7   =              462.819 / Doppler shift (km/s) of visit 7\n",
       " VERR7   =             0.126497 / error in VRAD (km/s)\n",
       " VHELIO7 =              458.426 / Heliocentric velocity (km/s), visit 7\n",
       " RVTEFF7 =              15000.0 / effective temperature (K) from visit mini-grid\n",
       " RVLOGG7 =              3.50000 / surface gravity (dex) from visit mini-grid xcor\n",
       " RVFEH7  =             0.320000 / metallicity [Fe/H] from visit mini-grid xcorr\n",
       " RVALPH7 =              0.00000 / alpha abundance from visit mini-grid xcorr\n",
       " RVCARB7 =              0.00000 / carbon abundance from visit mini-grid xcorr\n",
       " SNRVIS7 =              104.875 / Signal/Noise ratio, visit 7\n",
       " FLAG7   =                    0 / STARFLAG for visit 7\n",
       " COMMENT VISIT 8 INFORMATION:\n",
       " SFILE8  = 'apVisit-r6-6223-56282-099.fits' / Visit #8 spectrum file\n",
       " DATE8   = '2012-12-21T02:21:18.510' / DATE-OBS of visit 8\n",
       " JD8     =        2456282.62145 / Julian date of visit 8\n",
       " HJD8    =        56282.6263361 / Reduced Heliocentric JD of visit 8\n",
       " FIBER8  =                   99 / Fiber, visit 8\n",
       " BC8     =             -14.1317 / Barycentric correction (km/s),visit 8\n",
       " VTYPE8  =                    3 / RV type (1=chisq, 2=xcorr) from visit 8\n",
       " VRAD8   =              499.820 / Doppler shift (km/s) of visit 8\n",
       " VERR8   =             0.115723 / error in VRAD (km/s)\n",
       " VHELIO8 =              485.688 / Heliocentric velocity (km/s), visit 8\n",
       " RVTEFF8 =              15000.0 / effective temperature (K) from visit mini-grid\n",
       " RVLOGG8 =              3.50000 / surface gravity (dex) from visit mini-grid xcor\n",
       " RVFEH8  =             0.320000 / metallicity [Fe/H] from visit mini-grid xcorr\n",
       " RVALPH8 =              0.00000 / alpha abundance from visit mini-grid xcorr\n",
       " RVCARB8 =              0.00000 / carbon abundance from visit mini-grid xcorr\n",
       " SNRVIS8 =              112.244 / Signal/Noise ratio, visit 8\n",
       " FLAG8   =                 2048 / STARFLAG for visit 8\n",
       " COMMENT VISIT 9 INFORMATION:\n",
       " SFILE9  = 'apVisit-r6-6223-56283-099.fits' / Visit #9 spectrum file\n",
       " DATE9   = '2012-12-22T02:25:20.119' / DATE-OBS of visit 9\n",
       " JD9     =        2456283.62424 / Julian date of visit 9\n",
       " HJD9    =        56283.6290775 / Reduced Heliocentric JD of visit 9\n",
       " FIBER9  =                   99 / Fiber, visit 9\n",
       " BC9     =             -14.5945 / Barycentric correction (km/s),visit 9\n",
       " VTYPE9  =                    3 / RV type (1=chisq, 2=xcorr) from visit 9\n",
       " VRAD9   =              486.162 / Doppler shift (km/s) of visit 9\n",
       " VERR9   =             0.112688 / error in VRAD (km/s)\n",
       " VHELIO9 =              471.567 / Heliocentric velocity (km/s), visit 9\n",
       " RVTEFF9 =              15000.0 / effective temperature (K) from visit mini-grid\n",
       " RVLOGG9 =              3.50000 / surface gravity (dex) from visit mini-grid xcor\n",
       " RVFEH9  =             0.320000 / metallicity [Fe/H] from visit mini-grid xcorr\n",
       " RVALPH9 =              0.00000 / alpha abundance from visit mini-grid xcorr\n",
       " RVCARB9 =              0.00000 / carbon abundance from visit mini-grid xcorr\n",
       " SNRVIS9 =              110.374 / Signal/Noise ratio, visit 9\n",
       " FLAG9   =                 2048 / STARFLAG for visit 9\n",
       " COMMENT VISIT 10 INFORMATION:\n",
       " SFILE10 = 'apVisit-r6-7073-56669-008.fits' / Visit #10 spectrum file\n",
       " DATE10  = '2014-01-12T03:36:25.073' / DATE-OBS of visit 10\n",
       " JD10    =        2456669.67356 / Julian date of visit 10\n",
       " HJD10   =        56669.6770766 / Reduced Heliocentric JD of visit 10\n",
       " FIBER10 =                    8 / Fiber, visit 10\n",
       " BC10    =             -22.9911 / Barycentric correction (km/s),visit 10\n",
       " VTYPE10 =                    3 / RV type (1=chisq, 2=xcorr) from visit 10\n",
       " VRAD10  =              501.311 / Doppler shift (km/s) of visit 10\n",
       " VERR10  =             0.133554 / error in VRAD (km/s)\n",
       " VHELIO10=              478.320 / Heliocentric velocity (km/s), visit 10\n",
       " RVTEFF10=              15000.0 / effective temperature (K) from visit mini-grid\n",
       " RVLOGG10=              3.50000 / surface gravity (dex) from visit mini-grid xcor\n",
       " RVFEH10 =             0.320000 / metallicity [Fe/H] from visit mini-grid xcorr\n",
       " RVALPH10=              0.00000 / alpha abundance from visit mini-grid xcorr\n",
       " RVCARB10=              0.00000 / carbon abundance from visit mini-grid xcorr\n",
       " SNRVIS10=              101.482 / Signal/Noise ratio, visit 10\n",
       " FLAG10  =                  512 / STARFLAG for visit 10\n",
       " COMMENT VISIT 11 INFORMATION:\n",
       " SFILE11 = 'apVisit-r6-7073-56673-095.fits' / Visit #11 spectrum file\n",
       " DATE11  = '2014-01-16T00:58:03.293' / DATE-OBS of visit 11\n",
       " JD11    =        2456673.56358 / Julian date of visit 11\n",
       " HJD11   =        56673.5667911 / Reduced Heliocentric JD of visit 11\n",
       " FIBER11 =                   95 / Fiber, visit 11\n",
       " BC11    =             -24.0000 / Barycentric correction (km/s),visit 11\n",
       " VTYPE11 =                    3 / RV type (1=chisq, 2=xcorr) from visit 11\n",
       " VRAD11  =              515.098 / Doppler shift (km/s) of visit 11\n",
       " VERR11  =             0.188335 / error in VRAD (km/s)\n",
       " VHELIO11=              491.098 / Heliocentric velocity (km/s), visit 11\n",
       " RVTEFF11=              15000.0 / effective temperature (K) from visit mini-grid\n",
       " RVLOGG11=              3.50000 / surface gravity (dex) from visit mini-grid xcor\n",
       " RVFEH11 =             0.320000 / metallicity [Fe/H] from visit mini-grid xcorr\n",
       " RVALPH11=              0.00000 / alpha abundance from visit mini-grid xcorr\n",
       " RVCARB11=              0.00000 / carbon abundance from visit mini-grid xcorr\n",
       " SNRVIS11=              89.1871 / Signal/Noise ratio, visit 11\n",
       " FLAG11  =                 2048 / STARFLAG for visit 11\n",
       " COMMENT VISIT 12 INFORMATION:\n",
       " SFILE12 = 'apVisit-r6-7073-56701-092.fits' / Visit #12 spectrum file\n",
       " DATE12  = '2014-02-13T01:34:01.182' / DATE-OBS of visit 12\n",
       " JD12    =        2456701.58856 / Julian date of visit 12\n",
       " HJD12   =        56701.5892207 / Reduced Heliocentric JD of visit 12\n",
       " FIBER12 =                   92 / Fiber, visit 12\n",
       " BC12    =             -29.3522 / Barycentric correction (km/s),visit 12\n",
       " VTYPE12 =                    3 / RV type (1=chisq, 2=xcorr) from visit 12\n",
       " VRAD12  =              488.617 / Doppler shift (km/s) of visit 12\n",
       " VERR12  =             0.171803 / error in VRAD (km/s)\n",
       " VHELIO12=              459.265 / Heliocentric velocity (km/s), visit 12\n",
       " RVTEFF12=              15000.0 / effective temperature (K) from visit mini-grid\n",
       " RVLOGG12=              3.50000 / surface gravity (dex) from visit mini-grid xcor\n",
       " RVFEH12 =             0.320000 / metallicity [Fe/H] from visit mini-grid xcorr\n",
       " RVALPH12=              0.00000 / alpha abundance from visit mini-grid xcorr\n",
       " RVCARB12=              0.00000 / carbon abundance from visit mini-grid xcorr\n",
       " SNRVIS12=              94.3769 / Signal/Noise ratio, visit 12\n",
       " FLAG12  =                 1024 / STARFLAG for visit 12\n",
       " COMMENT VISIT 13 INFORMATION:\n",
       " SFILE13 = 'apVisit-r6-7074-56675-059.fits' / Visit #13 spectrum file\n",
       " DATE13  = '2014-01-18T00:59:49.670' / DATE-OBS of visit 13\n",
       " JD13    =        2456675.56481 / Julian date of visit 13\n",
       " HJD13   =        56675.5678580 / Reduced Heliocentric JD of visit 13\n",
       " FIBER13 =                   59 / Fiber, visit 13\n",
       " BC13    =             -24.5948 / Barycentric correction (km/s),visit 13\n",
       " VTYPE13 =                    3 / RV type (1=chisq, 2=xcorr) from visit 13\n",
       " VRAD13  =              505.501 / Doppler shift (km/s) of visit 13\n",
       " VERR13  =             0.155145 / error in VRAD (km/s)\n",
       " VHELIO13=              480.907 / Heliocentric velocity (km/s), visit 13\n",
       " RVTEFF13=              15000.0 / effective temperature (K) from visit mini-grid\n",
       " RVLOGG13=              3.50000 / surface gravity (dex) from visit mini-grid xcor\n",
       " RVFEH13 =             0.320000 / metallicity [Fe/H] from visit mini-grid xcorr\n",
       " RVALPH13=              0.00000 / alpha abundance from visit mini-grid xcorr\n",
       " RVCARB13=              0.00000 / carbon abundance from visit mini-grid xcorr\n",
       " SNRVIS13=              103.303 / Signal/Noise ratio, visit 13\n",
       " FLAG13  =                  512 / STARFLAG for visit 13\n",
       " COMMENT VISIT 14 INFORMATION:\n",
       " SFILE14 = 'apVisit-r6-7074-56703-104.fits' / Visit #14 spectrum file\n",
       " DATE14  = '2014-02-15T01:36:17.020' / DATE-OBS of visit 14\n",
       " JD14    =        2456703.59013 / Julian date of visit 14\n",
       " HJD14   =        56703.5905948 / Reduced Heliocentric JD of visit 14\n",
       " FIBER14 =                  104 / Fiber, visit 14\n",
       " BC14    =             -29.4691 / Barycentric correction (km/s),visit 14\n",
       " VTYPE14 =                    3 / RV type (1=chisq, 2=xcorr) from visit 14\n",
       " VRAD14  =              491.785 / Doppler shift (km/s) of visit 14\n",
       " VERR14  =             0.186406 / error in VRAD (km/s)\n",
       " VHELIO14=              462.315 / Heliocentric velocity (km/s), visit 14\n",
       " RVTEFF14=              15000.0 / effective temperature (K) from visit mini-grid\n",
       " RVLOGG14=              3.50000 / surface gravity (dex) from visit mini-grid xcor\n",
       " RVFEH14 =             0.320000 / metallicity [Fe/H] from visit mini-grid xcorr\n",
       " RVALPH14=              0.00000 / alpha abundance from visit mini-grid xcorr\n",
       " RVCARB14=              0.00000 / carbon abundance from visit mini-grid xcorr\n",
       " SNRVIS14=              76.6074 / Signal/Noise ratio, visit 14\n",
       " FLAG14  =                 2048 / STARFLAG for visit 14\n",
       " COMMENT VISIT 15 INFORMATION:\n",
       " SFILE15 = 'apVisit-r6-7075-56706-092.fits' / Visit #15 spectrum file\n",
       " DATE15  = '2014-02-18T02:09:41.056' / DATE-OBS of visit 15\n",
       " JD15    =        2456706.60169 / Julian date of visit 15\n",
       " HJD15   =        56706.6018591 / Reduced Heliocentric JD of visit 15\n",
       " FIBER15 =                   92 / Fiber, visit 15\n",
       " BC15    =             -29.5981 / Barycentric correction (km/s),visit 15\n",
       " VTYPE15 =                    3 / RV type (1=chisq, 2=xcorr) from visit 15\n",
       " VRAD15  =              481.207 / Doppler shift (km/s) of visit 15\n",
       " VERR15  =             0.289244 / error in VRAD (km/s)\n",
       " VHELIO15=              451.609 / Heliocentric velocity (km/s), visit 15\n",
       " RVTEFF15=              15000.0 / effective temperature (K) from visit mini-grid\n",
       " RVLOGG15=              3.50000 / surface gravity (dex) from visit mini-grid xcor\n",
       " RVFEH15 =             0.320000 / metallicity [Fe/H] from visit mini-grid xcorr\n",
       " RVALPH15=              0.00000 / alpha abundance from visit mini-grid xcorr\n",
       " RVCARB15=              0.00000 / carbon abundance from visit mini-grid xcorr\n",
       " SNRVIS15=              48.0501 / Signal/Noise ratio, visit 15\n",
       " FLAG15  =                 1024 / STARFLAG for visit 15\n",
       " COMMENT VISIT 16 INFORMATION:\n",
       " SFILE16 = 'apVisit-r6-7079-56561-141.fits' / Visit #16 spectrum file\n",
       " DATE16  = '2013-09-26T11:21:08.650' / DATE-OBS of visit 16\n",
       " JD16    =        2456561.99162 / Julian date of visit 16\n",
       " HJD16   =        56561.9946649 / Reduced Heliocentric JD of visit 16\n",
       " FIBER16 =                  141 / Fiber, visit 16\n",
       " BC16    =              24.1800 / Barycentric correction (km/s),visit 16\n",
       " VTYPE16 =                    3 / RV type (1=chisq, 2=xcorr) from visit 16\n",
       " VRAD16  =              424.482 / Doppler shift (km/s) of visit 16\n",
       " VERR16  =             0.139784 / error in VRAD (km/s)\n",
       " VHELIO16=              448.662 / Heliocentric velocity (km/s), visit 16\n",
       " RVTEFF16=              15000.0 / effective temperature (K) from visit mini-grid\n",
       " RVLOGG16=              3.50000 / surface gravity (dex) from visit mini-grid xcor\n",
       " RVFEH16 =             0.320000 / metallicity [Fe/H] from visit mini-grid xcorr\n",
       " RVALPH16=              0.00000 / alpha abundance from visit mini-grid xcorr\n",
       " RVCARB16=              0.00000 / carbon abundance from visit mini-grid xcorr\n",
       " SNRVIS16=              80.9034 / Signal/Noise ratio, visit 16\n",
       " FLAG16  =                    0 / STARFLAG for visit 16\n",
       " RMIN    =                 6187 / Min pixel of red chip contrib, any frame\n",
       " RMAX    =                 8267 / Maxmm pixel of red chip contrib, any frame\n",
       " GMIN    =                 3432 / Min pixel of green chip contrib, any frame\n",
       " GMAX    =                 6013 / Maxm pixel of green chip contrib, any frame\n",
       " BMIN    =                   94 / Min pixel of blue chip contrib, any frame\n",
       " BMAX    =                 3207 / Maxm pixel of blue chip contrib, any frame\n",
       " ROVERMIN=                 6206 / Min pixel of red chip contrib, all frames\n",
       " ROVERMAX=                 8247 / Max pixel of red chip contrib, all frames\n",
       " GOVERMIN=                 3449 / Min pixel of green chip contrib, all frames\n",
       " GOVERMAX=                 5995 / Max pixel of green chip contrib, all frames\n",
       " BOVERMIN=                  111 / Minimum pixel of blue chip contrib, all frames\n",
       " BOVERMAX=                 3188 / Maximum pixel of blue chip contrib, all frames\n",
       " COMMENT Wavelength polynomial coefficients (Ang):\n",
       " NWAVE   =                 8575 /Number of wavelengths in subsequent HDUs\n",
       " CRVAL1  =        4.17900000000 /Start log10(wavelength) in subsequent HDUs\n",
       " CDELT1  =    6.00000000000E-06 /Dispersion in log10(wavelength) in subsequent HD\n",
       " CRPIX1  =                    1 /Pixel of starting wavelength in subsequent HDUs\n",
       " CTYPE1  = 'LOG-LINEAR'         /Logarithmic wavelength scale in subsequent HDUs\n",
       " DC-FLAG =                    1 /Logarithmic wavelength scale in subsequent HDUs\n",
       " HISTORY APSTAR: Tue Jan 26 00:04:43 2016\n",
       " HISTORY APSTAR: apogee on kp125\n",
       " HISTORY APSTAR: IDL 8.1 linux x86_64\n",
       " HISTORY APSTAR:  APOGEE Reduction Pipeline Version: v3_31\n",
       " HISTORY APSTAR: The data are in separate extensions:\n",
       " HISTORY APSTAR:  HDU0 = Header only\n",
       " HISTORY APSTAR:  All image extensions have:\n",
       " HISTORY APSTAR:    row 1: combined spectrum with individual pixel weighting\n",
       " HISTORY APSTAR:    row 2: combined spectrum with global weighting\n",
       " HISTORY APSTAR:    row 3-nvisits+2: individual resampled visit spectra\n",
       " HISTORY APSTAR:   unless nvisits=1, which only have a single row\n",
       " HISTORY APSTAR:  All spectra shifted to rest (vacuum) wavelength scale\n",
       " HISTORY APSTAR:  HDU1 - Flux (10^-17 ergs/s/cm^2/Ang)\n",
       " HISTORY APSTAR:  HDU2 - Error (10^-17 ergs/s/cm^2/Ang)\n",
       " HISTORY APSTAR:  HDU3 - Flag mask:\n",
       " HISTORY APSTAR:    row 1: bitwise OR of all visits\n",
       " HISTORY APSTAR:    row 2: bitwise AND of all visits\n",
       " HISTORY APSTAR:    row 3-nvisits+2: individual visit masks\n",
       " HISTORY APSTAR:  HDU4 - Sky (10^-17 ergs/s/cm^2/Ang)\n",
       " HISTORY APSTAR:  HDU5 - Sky Error (10^-17 ergs/s/cm^2/Ang)\n",
       " HISTORY APSTAR:  HDU6 - Telluric\n",
       " HISTORY APSTAR:  HDU7 - Telluric Error\n",
       " HISTORY APSTAR:  HDU8 - LSF coefficients\n",
       " HISTORY APSTAR:  HDU9 - RV and CCF structure)"
      ]
     },
     "execution_count": 28,
     "metadata": {},
     "output_type": "execute_result"
    }
   ],
   "source": [
    "header = apread.apStar(4586,'2M03434449+3143092',ext=0,header=True)\n",
    "header"
   ]
  },
  {
   "cell_type": "code",
   "execution_count": null,
   "metadata": {
    "collapsed": true
   },
   "outputs": [],
   "source": []
  }
 ],
 "metadata": {
  "kernelspec": {
   "display_name": "Python 3",
   "language": "python",
   "name": "python3"
  },
  "language_info": {
   "codemirror_mode": {
    "name": "ipython",
    "version": 3
   },
   "file_extension": ".py",
   "mimetype": "text/x-python",
   "name": "python",
   "nbconvert_exporter": "python",
   "pygments_lexer": "ipython3",
   "version": "3.6.0"
  }
 },
 "nbformat": 4,
 "nbformat_minor": 2
}
