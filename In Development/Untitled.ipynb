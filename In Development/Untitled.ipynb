{
 "cells": [
  {
   "cell_type": "code",
   "execution_count": 1,
   "metadata": {
    "collapsed": true
   },
   "outputs": [],
   "source": [
    "import matplotlib.pyplot as plt\n",
    "import pandas as pd\n",
    "import numpy as np\n",
    "import itertools\n",
    "%matplotlib inline"
   ]
  },
  {
   "cell_type": "code",
   "execution_count": null,
   "metadata": {
    "collapsed": false
   },
   "outputs": [],
   "source": []
  },
  {
   "cell_type": "code",
   "execution_count": null,
   "metadata": {
    "collapsed": true
   },
   "outputs": [],
   "source": []
  },
  {
   "cell_type": "code",
   "execution_count": 8,
   "metadata": {
    "collapsed": true
   },
   "outputs": [],
   "source": [
    "%run ../Modules/Importing.py"
   ]
  },
  {
   "cell_type": "code",
   "execution_count": null,
   "metadata": {
    "collapsed": false
   },
   "outputs": [],
   "source": [
    "x1 = pd.read_csv('/Users/ballanr/Desktop/File Outputs/DR15/Wave and Flux/9753-57859-007.csv',index_col=False)\n",
    "wave2 = x1['Wavelength']\n",
    "flux2 = x1['Flux']\n",
    "err2 = x1['Error']\n",
    "\n",
    "emission1,bleh,blehh = f.Barycentric_Correction(11,0)\n",
    "center1 = f.find_nearest(wave2,emission1)\n",
    "\n",
    "wave1 = np.asarray(wave2[center1-301:center1+301])\n",
    "flux1 = np.asarray(flux2[center1-301:center1+301])\n",
    "err1 = np.asarray(err2[center1-301:center1+301])\n",
    "\n",
    "L1 = 0\n",
    "L2 = 151\n",
    "R1 = 451\n",
    "R2 = 602\n",
    "Fc = (np.sum(flux1[L1:L2]) + np.sum(flux1[R1:R2])) / (len(flux1[L1:L2]) + len(flux1[R1:R2]))\n",
    "\n",
    "plt.figure(figsize=(20,10))\n",
    "plt.plot(wave1,flux1);\n",
    "plt.axhline(Fc,color='red',ls='dashed');"
   ]
  },
  {
   "cell_type": "code",
   "execution_count": null,
   "metadata": {
    "collapsed": true
   },
   "outputs": [],
   "source": []
  },
  {
   "cell_type": "code",
   "execution_count": null,
   "metadata": {
    "collapsed": false
   },
   "outputs": [],
   "source": [
    "from PyAstronomy.pyasl import helcorr as hell\n",
    "from astropy.io import fits"
   ]
  },
  {
   "cell_type": "markdown",
   "metadata": {},
   "source": [
    "# APO"
   ]
  },
  {
   "cell_type": "markdown",
   "metadata": {},
   "source": [
    "APO is apache point observatory: Latitude 32° 46' 49\" N, Longitude 105° 49' 13\" W, Elevation 2788 meters"
   ]
  },
  {
   "cell_type": "code",
   "execution_count": null,
   "metadata": {
    "collapsed": true
   },
   "outputs": [],
   "source": [
    "filename = '/Volumes/CoveyData/APOGEE_Spectra/preDR15/apogee/spectro/redux/visits/apo25m/9753/57859/apVisit-apogee2-9753-57859-002.fits'\n",
    "openfile = fits.open(filename)\n",
    "header = openfile[0].header\n",
    "header['BC'],header['RA'],header['DEC'],header['HJD']"
   ]
  },
  {
   "cell_type": "code",
   "execution_count": null,
   "metadata": {
    "collapsed": true
   },
   "outputs": [],
   "source": [
    "x = hell(-105.4913,36.4649,2788,82.8615778146,11.0229465933,2457650.9389914)"
   ]
  },
  {
   "cell_type": "code",
   "execution_count": null,
   "metadata": {
    "collapsed": false
   },
   "outputs": [],
   "source": [
    "x"
   ]
  },
  {
   "cell_type": "code",
   "execution_count": null,
   "metadata": {
    "collapsed": false
   },
   "outputs": [],
   "source": [
    "x[0]/header['BC'],header['BC']-x[0]"
   ]
  },
  {
   "cell_type": "markdown",
   "metadata": {},
   "source": [
    "# LCO"
   ]
  },
  {
   "cell_type": "markdown",
   "metadata": {},
   "source": [
    "LCO is Las Campanas Observatory: Latitude 29° 0′ 52.56″ S, Longitude 70° 41′ 33.36″ W, Elevation 2380m"
   ]
  },
  {
   "cell_type": "code",
   "execution_count": null,
   "metadata": {
    "collapsed": false,
    "scrolled": true
   },
   "outputs": [],
   "source": [
    "filename = '/Volumes/CoveyData/APOGEE_Spectra/preDR15/apogee/spectro/redux/visits/lco25m/9856/57942/asVisit-apogee2-9856-57942-003.fits'\n",
    "openfile = fits.open(filename)\n",
    "header = openfile[0].header\n",
    "header['BC'],header['RA'],header['DEC'],header['HJD']"
   ]
  },
  {
   "cell_type": "code",
   "execution_count": null,
   "metadata": {
    "collapsed": false
   },
   "outputs": [],
   "source": [
    "jd = header['JD-MID']\n",
    "jd"
   ]
  },
  {
   "cell_type": "code",
   "execution_count": null,
   "metadata": {
    "collapsed": false
   },
   "outputs": [],
   "source": [
    "x = hell(-70.413336,-29.05256,2380,347.230220488, -5.085581975, 2457942.8861364)"
   ]
  },
  {
   "cell_type": "code",
   "execution_count": null,
   "metadata": {
    "collapsed": false
   },
   "outputs": [],
   "source": [
    "x"
   ]
  },
  {
   "cell_type": "code",
   "execution_count": null,
   "metadata": {
    "collapsed": false
   },
   "outputs": [],
   "source": [
    "x[0]/header['BC'],header['BC']-x[0]"
   ]
  },
  {
   "cell_type": "code",
   "execution_count": null,
   "metadata": {
    "collapsed": true
   },
   "outputs": [],
   "source": []
  },
  {
   "cell_type": "code",
   "execution_count": null,
   "metadata": {
    "collapsed": false
   },
   "outputs": [],
   "source": [
    "import pandas as pd\n",
    "from astropy.io import fits as fits\n",
    "import numpy as np\n",
    "import itertools"
   ]
  },
  {
   "cell_type": "code",
   "execution_count": null,
   "metadata": {
    "collapsed": true
   },
   "outputs": [],
   "source": [
    "dr15table = pd.read_csv('/Users/ballanr/Desktop/File Outputs/forMdot_analysis.csv')\n",
    "cols = ['Location ID','2Mass ID', 'Plate ID','MJD','Fiber','Telescope','Header BC','HelCorr BC','Difference (m/s)']\n",
    "df = pd.DataFrame(columns=cols)"
   ]
  },
  {
   "cell_type": "code",
   "execution_count": null,
   "metadata": {
    "collapsed": false,
    "scrolled": true
   },
   "outputs": [],
   "source": [
    "rowstart = 0\n",
    "g = 0\n",
    "for index,row in itertools.islice(dr15table.iterrows(),rowstart,None):\n",
    "    try:\n",
    "        g+=1\n",
    "        loc = row['LOCID']\n",
    "        twomass = row['2MASS_ID']\n",
    "        print(str(g))\n",
    "        plateid = row['PLATE']\n",
    "        mjd = row['MJD']\n",
    "        \n",
    "        if len(str(row['FIB'])) == 3:\n",
    "            fiber = str(row['FIB'])\n",
    "        elif len(str(row['FIB'])) == 2:\n",
    "            fiber = '0' + str(row['FIB']) \n",
    "        else:\n",
    "            fiber = '00' + str(row['FIB'])\n",
    "            \n",
    "        fitsfile = row['path-to-file-on-CoveyData']\n",
    "        openfile = fits.open(fitsfile)\n",
    "        header = openfile[0].header\n",
    "        \n",
    "        bc = header['BC']\n",
    "        ra = header['RA']\n",
    "        dec = header['DEC'] \n",
    "        jd = 2.4*(10**6)+header['HJD']\n",
    "        telescope = header['TELESCOP']\n",
    "        \n",
    "        if telescope == 'apo25m':\n",
    "            height = 2788\n",
    "            long = -105.4913\n",
    "            lat = 36.4649\n",
    "        else:\n",
    "            height = 2380\n",
    "            long = -70.413336\n",
    "            lat = -29.05256\n",
    "        \n",
    "        x = hell(long,lat,height,ra,dec,jd)\n",
    "        difference = (bc - x[0])*1000\n",
    "        data = [loc,twomass,plateid,mjd,fiber,telescope,bc,x[0],difference]\n",
    "        df.loc[len(df)+1] = data\n",
    "        openfile.close()\n",
    "        \n",
    "    except KeyError:\n",
    "        print('Row '+str(g)+' has no BC value...')\n",
    "            #problems.append((loc,twomass,plateid,mjd,fiber,'KeyError'))\n",
    "        openfile.close()\n",
    "        \n",
    "    except FileNotFoundError:\n",
    "        print('Row '+str(g)+' doesn\\'t exist...')\n",
    "            #problems.append((loc,twomass,plateid,mjd,fiber,'FileNotFound'))\n",
    "        openfile.close()\n",
    "            \n",
    "df.to_csv('/Users/ballanr/Desktop/File Outputs/DR15/BC Test.csv',index=False)"
   ]
  },
  {
   "cell_type": "code",
   "execution_count": null,
   "metadata": {
    "collapsed": true
   },
   "outputs": [],
   "source": [
    "file = pd.read_csv('/Users/ballanr/Desktop/File Outputs/DR15/BC Test.csv')\n",
    "difference = file['Difference (m/s)']"
   ]
  },
  {
   "cell_type": "code",
   "execution_count": null,
   "metadata": {
    "collapsed": false
   },
   "outputs": [],
   "source": [
    "plt.figure(figsize=(20,10))\n",
    "weights = np.ones_like(difference)/float(len(difference))\n",
    "plt.hist(difference,bins=np.arange(-15,25,1),weights=weights,edgecolor = 'black');\n",
    "plt.xlabel('Velocity Seperation m/s',fontsize=18);\n",
    "plt.ylabel('Percent of Total',fontsize=18);\n",
    "plt.title('Header BC - HelCorr BC',fontsize = 20);\n",
    "plt.grid(True)\n",
    "plt.savefig('/Users/ballanr/Desktop/File Outputs/DR15/BC Hist.pdf',dpi = 300);"
   ]
  },
  {
   "cell_type": "code",
   "execution_count": null,
   "metadata": {
    "collapsed": true
   },
   "outputs": [],
   "source": [
    "gg = np.asarray(difference)"
   ]
  },
  {
   "cell_type": "code",
   "execution_count": null,
   "metadata": {
    "collapsed": false
   },
   "outputs": [],
   "source": [
    "gg = np.abs(gg)"
   ]
  },
  {
   "cell_type": "code",
   "execution_count": null,
   "metadata": {
    "collapsed": false
   },
   "outputs": [],
   "source": [
    "gg"
   ]
  },
  {
   "cell_type": "code",
   "execution_count": null,
   "metadata": {
    "collapsed": false
   },
   "outputs": [],
   "source": [
    "plt.figure(figsize=(20,10))\n",
    "weights = np.ones_like(gg)/float(len(gg))\n",
    "plt.hist(gg,bins=np.arange(0,25,2.5),weights=weights,edgecolor = 'black');\n",
    "plt.xlabel('Velocity Seperation m/s',fontsize=18);\n",
    "plt.ylabel('Percent of Total',fontsize=18);\n",
    "plt.title('Header BC - HelCorr BC',fontsize = 20);\n",
    "plt.grid(True)\n",
    "#plt.savefig('/Users/ballanr/Desktop/File Outputs/DR15/BC Hist.pdf',dpi = 300);"
   ]
  },
  {
   "cell_type": "code",
   "execution_count": null,
   "metadata": {
    "collapsed": true
   },
   "outputs": [],
   "source": [
    "bbbb"
   ]
  },
  {
   "cell_type": "code",
   "execution_count": null,
   "metadata": {
    "collapsed": true
   },
   "outputs": [],
   "source": []
  },
  {
   "cell_type": "code",
   "execution_count": null,
   "metadata": {
    "collapsed": true
   },
   "outputs": [],
   "source": []
  },
  {
   "cell_type": "code",
   "execution_count": 17,
   "metadata": {
    "collapsed": true
   },
   "outputs": [],
   "source": [
    "import numpy as np\n",
    "import pandas as pd\n",
    "import itertools"
   ]
  },
  {
   "cell_type": "code",
   "execution_count": 18,
   "metadata": {
    "collapsed": false
   },
   "outputs": [],
   "source": [
    "df8 = pd.read_csv('/Users/ballanr/Desktop/File Outputs/Brackett Decrements/Density Files/Density 8 Ratios testcase.csv',usecols=(8,9,10,11,12,13,14))\n",
    "df11 = pd.read_csv('/Users/ballanr/Desktop/File Outputs/Brackett Decrements/Density Files/Density 11 Ratios testcase.csv',usecols=(8,9,10,11,12,13,14))"
   ]
  },
  {
   "cell_type": "code",
   "execution_count": 19,
   "metadata": {
    "collapsed": false
   },
   "outputs": [],
   "source": [
    "A = np.asarray([1,0.802011438,0.652139617,0.534214159,0.441135871,0.361861566,0.301124039,0.252612897,0.213172944,0.181561822])\n",
    "A1 = np.asarray([1,0.796052632,0.644942434,0.527754934,0.436677632,0.359786184,0.300164474,0.252467105,0.213610197,0.182442434])\n",
    "A2 = np.asarray([1,0.881554131,0.760090532,0.648811769,0.55186722,0.470011316,0.401357978,0.344662392,0.297246322,0.257600905])\n",
    "b = [1,1.024178045,0.767604629,0.84560514,0.491509042,0.448962594,0.365232136,0.314040915,0.214283097,0.163918628]"
   ]
  },
  {
   "cell_type": "code",
   "execution_count": 20,
   "metadata": {
    "collapsed": false
   },
   "outputs": [],
   "source": [
    "r = b-A\n",
    "r1 = b-A1\n",
    "r2 = b-A2"
   ]
  },
  {
   "cell_type": "code",
   "execution_count": 21,
   "metadata": {
    "collapsed": false
   },
   "outputs": [
    {
     "data": {
      "text/plain": [
       "(0.4218700309052798, 0.28480493106236277)"
      ]
     },
     "execution_count": 21,
     "metadata": {},
     "output_type": "execute_result"
    }
   ],
   "source": [
    "re = 0\n",
    "re1 = 0\n",
    "re2 = 0\n",
    "for i in range(len(r)):\n",
    "    \n",
    "    re += (r[i])**2\n",
    "    re1 += (r1[i])**2\n",
    "    re2 += (r2[i])**2\n",
    "    \n",
    "re = np.sqrt(re)\n",
    "re1 = np.sqrt(re1)\n",
    "re1 = np.sqrt(re2)\n",
    "\n",
    "re,re1"
   ]
  },
  {
   "cell_type": "code",
   "execution_count": 22,
   "metadata": {
    "collapsed": false
   },
   "outputs": [],
   "source": [
    "df1 = df8.as_matrix(columns=None)"
   ]
  },
  {
   "cell_type": "code",
   "execution_count": 23,
   "metadata": {
    "collapsed": false
   },
   "outputs": [
    {
     "data": {
      "text/plain": [
       "array([[ 1.        ,  1.        ,  1.        ,  1.        ,  1.        ,\n",
       "         1.        ,  1.        ],\n",
       "       [ 0.80201144,  0.79605263,  0.78911861,  0.78650935,  0.78435856,\n",
       "         0.77961216,  0.77289932],\n",
       "       [ 0.65213962,  0.64494243,  0.63525571,  0.63156723,  0.62863023,\n",
       "         0.62185535,  0.61241484],\n",
       "       [ 0.53421416,  0.52775493,  0.51751904,  0.5135797 ,  0.51040476,\n",
       "         0.50340671,  0.49318698],\n",
       "       [ 0.44113587,  0.43667763,  0.42676823,  0.42297418,  0.41984907,\n",
       "         0.41325996,  0.40386071],\n",
       "       [ 0.36186157,  0.35978618,  0.35321001,  0.35017809,  0.34781615,\n",
       "         0.34224319,  0.33387585],\n",
       "       [ 0.30112404,  0.30016447,  0.29466812,  0.29229742,  0.2901898 ,\n",
       "         0.28563941,  0.27831188],\n",
       "       [ 0.2526129 ,  0.25246711,  0.24809576,  0.24599288,  0.24445461,\n",
       "         0.24043501,  0.2342165 ],\n",
       "       [ 0.21317294,  0.2136102 ,  0.21038085,  0.2086821 ,  0.20731763,\n",
       "         0.20403564,  0.1987888 ],\n",
       "       [ 0.18156182,  0.18244243,  0.17969532,  0.17831701,  0.17720101,\n",
       "         0.1745021 ,  0.17002271]])"
      ]
     },
     "execution_count": 23,
     "metadata": {},
     "output_type": "execute_result"
    }
   ],
   "source": [
    "df1"
   ]
  },
  {
   "cell_type": "code",
   "execution_count": 24,
   "metadata": {
    "collapsed": false
   },
   "outputs": [],
   "source": [
    "df2 = np.transpose(df1)"
   ]
  },
  {
   "cell_type": "code",
   "execution_count": 25,
   "metadata": {
    "collapsed": false
   },
   "outputs": [
    {
     "data": {
      "text/plain": [
       "array([ 1.        ,  0.80201144,  0.65213962,  0.53421416,  0.44113587,\n",
       "        0.36186157,  0.30112404,  0.2526129 ,  0.21317294,  0.18156182])"
      ]
     },
     "execution_count": 25,
     "metadata": {},
     "output_type": "execute_result"
    }
   ],
   "source": [
    "df2[0]"
   ]
  },
  {
   "cell_type": "code",
   "execution_count": 26,
   "metadata": {
    "collapsed": false
   },
   "outputs": [],
   "source": [
    "residual = []\n",
    "for i in range(len(df2)):\n",
    "    r = b - df2[i]\n",
    "    r2 = 0\n",
    "    for k in range(len(r)):\n",
    "        r2 += (r[k])**2\n",
    "    r2 = np.sqrt(r2)\n",
    "    residual.append(r2)"
   ]
  },
  {
   "cell_type": "code",
   "execution_count": 27,
   "metadata": {
    "collapsed": false
   },
   "outputs": [
    {
     "data": {
      "text/plain": [
       "[0.4218700309052798,\n",
       " 0.43294757894594493,\n",
       " 0.45095650486598327,\n",
       " 0.45812397397205379,\n",
       " 0.46395136038756507,\n",
       " 0.47711308328519358,\n",
       " 0.49654306669263382]"
      ]
     },
     "execution_count": 27,
     "metadata": {},
     "output_type": "execute_result"
    }
   ],
   "source": [
    "residual"
   ]
  },
  {
   "cell_type": "code",
   "execution_count": 28,
   "metadata": {
    "collapsed": true
   },
   "outputs": [],
   "source": [
    "temps = [3750,5000,7500,8750,10000,12500,15000]\n",
    "density = np.arange(8,12.6,0.2)"
   ]
  },
  {
   "cell_type": "code",
   "execution_count": 29,
   "metadata": {
    "collapsed": false
   },
   "outputs": [],
   "source": [
    "cols = []\n",
    "for i in range(len(density)):\n",
    "    for k in range(len(temps)):\n",
    "        string = str(density[i])+'/'+str(temps[k])\n",
    "        cols.append(string)"
   ]
  },
  {
   "cell_type": "code",
   "execution_count": 30,
   "metadata": {
    "collapsed": false
   },
   "outputs": [
    {
     "data": {
      "text/plain": [
       "['8.0/3750',\n",
       " '8.0/5000',\n",
       " '8.0/7500',\n",
       " '8.0/8750',\n",
       " '8.0/10000',\n",
       " '8.0/12500',\n",
       " '8.0/15000',\n",
       " '8.2/3750',\n",
       " '8.2/5000',\n",
       " '8.2/7500',\n",
       " '8.2/8750',\n",
       " '8.2/10000',\n",
       " '8.2/12500',\n",
       " '8.2/15000',\n",
       " '8.4/3750',\n",
       " '8.4/5000',\n",
       " '8.4/7500',\n",
       " '8.4/8750',\n",
       " '8.4/10000',\n",
       " '8.4/12500',\n",
       " '8.4/15000',\n",
       " '8.6/3750',\n",
       " '8.6/5000',\n",
       " '8.6/7500',\n",
       " '8.6/8750',\n",
       " '8.6/10000',\n",
       " '8.6/12500',\n",
       " '8.6/15000',\n",
       " '8.8/3750',\n",
       " '8.8/5000',\n",
       " '8.8/7500',\n",
       " '8.8/8750',\n",
       " '8.8/10000',\n",
       " '8.8/12500',\n",
       " '8.8/15000',\n",
       " '9.0/3750',\n",
       " '9.0/5000',\n",
       " '9.0/7500',\n",
       " '9.0/8750',\n",
       " '9.0/10000',\n",
       " '9.0/12500',\n",
       " '9.0/15000',\n",
       " '9.2/3750',\n",
       " '9.2/5000',\n",
       " '9.2/7500',\n",
       " '9.2/8750',\n",
       " '9.2/10000',\n",
       " '9.2/12500',\n",
       " '9.2/15000',\n",
       " '9.4/3750',\n",
       " '9.4/5000',\n",
       " '9.4/7500',\n",
       " '9.4/8750',\n",
       " '9.4/10000',\n",
       " '9.4/12500',\n",
       " '9.4/15000',\n",
       " '9.6/3750',\n",
       " '9.6/5000',\n",
       " '9.6/7500',\n",
       " '9.6/8750',\n",
       " '9.6/10000',\n",
       " '9.6/12500',\n",
       " '9.6/15000',\n",
       " '9.8/3750',\n",
       " '9.8/5000',\n",
       " '9.8/7500',\n",
       " '9.8/8750',\n",
       " '9.8/10000',\n",
       " '9.8/12500',\n",
       " '9.8/15000',\n",
       " '10.0/3750',\n",
       " '10.0/5000',\n",
       " '10.0/7500',\n",
       " '10.0/8750',\n",
       " '10.0/10000',\n",
       " '10.0/12500',\n",
       " '10.0/15000',\n",
       " '10.2/3750',\n",
       " '10.2/5000',\n",
       " '10.2/7500',\n",
       " '10.2/8750',\n",
       " '10.2/10000',\n",
       " '10.2/12500',\n",
       " '10.2/15000',\n",
       " '10.4/3750',\n",
       " '10.4/5000',\n",
       " '10.4/7500',\n",
       " '10.4/8750',\n",
       " '10.4/10000',\n",
       " '10.4/12500',\n",
       " '10.4/15000',\n",
       " '10.6/3750',\n",
       " '10.6/5000',\n",
       " '10.6/7500',\n",
       " '10.6/8750',\n",
       " '10.6/10000',\n",
       " '10.6/12500',\n",
       " '10.6/15000',\n",
       " '10.8/3750',\n",
       " '10.8/5000',\n",
       " '10.8/7500',\n",
       " '10.8/8750',\n",
       " '10.8/10000',\n",
       " '10.8/12500',\n",
       " '10.8/15000',\n",
       " '11.0/3750',\n",
       " '11.0/5000',\n",
       " '11.0/7500',\n",
       " '11.0/8750',\n",
       " '11.0/10000',\n",
       " '11.0/12500',\n",
       " '11.0/15000',\n",
       " '11.2/3750',\n",
       " '11.2/5000',\n",
       " '11.2/7500',\n",
       " '11.2/8750',\n",
       " '11.2/10000',\n",
       " '11.2/12500',\n",
       " '11.2/15000',\n",
       " '11.4/3750',\n",
       " '11.4/5000',\n",
       " '11.4/7500',\n",
       " '11.4/8750',\n",
       " '11.4/10000',\n",
       " '11.4/12500',\n",
       " '11.4/15000',\n",
       " '11.6/3750',\n",
       " '11.6/5000',\n",
       " '11.6/7500',\n",
       " '11.6/8750',\n",
       " '11.6/10000',\n",
       " '11.6/12500',\n",
       " '11.6/15000',\n",
       " '11.8/3750',\n",
       " '11.8/5000',\n",
       " '11.8/7500',\n",
       " '11.8/8750',\n",
       " '11.8/10000',\n",
       " '11.8/12500',\n",
       " '11.8/15000',\n",
       " '12.0/3750',\n",
       " '12.0/5000',\n",
       " '12.0/7500',\n",
       " '12.0/8750',\n",
       " '12.0/10000',\n",
       " '12.0/12500',\n",
       " '12.0/15000',\n",
       " '12.2/3750',\n",
       " '12.2/5000',\n",
       " '12.2/7500',\n",
       " '12.2/8750',\n",
       " '12.2/10000',\n",
       " '12.2/12500',\n",
       " '12.2/15000',\n",
       " '12.4/3750',\n",
       " '12.4/5000',\n",
       " '12.4/7500',\n",
       " '12.4/8750',\n",
       " '12.4/10000',\n",
       " '12.4/12500',\n",
       " '12.4/15000']"
      ]
     },
     "execution_count": 30,
     "metadata": {},
     "output_type": "execute_result"
    }
   ],
   "source": [
    "cols"
   ]
  },
  {
   "cell_type": "code",
   "execution_count": 31,
   "metadata": {
    "collapsed": true
   },
   "outputs": [],
   "source": [
    "mdf = pd.DataFrame(columns = cols)"
   ]
  },
  {
   "cell_type": "code",
   "execution_count": 32,
   "metadata": {
    "collapsed": false,
    "scrolled": true
   },
   "outputs": [],
   "source": [
    "somearray = []\n",
    "for i in range(len(density)):\n",
    "    \n",
    "    filepath = '/Users/ballanr/Desktop/File Outputs/Brackett Decrements/Density Files/Density ' + str(density[i]) + ' Ratios.csv'\n",
    "    openfile = pd.read_csv(filepath,usecols=(1,2,3,4,5,6,7))\n",
    "    #penfile = np.transpose(openfile)\n",
    "    \n",
    "    for column,data in itertools.islice(openfile.iteritems(),0,None):\n",
    "        #print(column)\n",
    "        #print(data)\n",
    "        somearray.append(np.asarray(data))"
   ]
  },
  {
   "cell_type": "code",
   "execution_count": 33,
   "metadata": {
    "collapsed": false
   },
   "outputs": [],
   "source": [
    "for i in range(len(somearray)):\n",
    "    colname = cols[i]\n",
    "    mdf[colname] = somearray[i]"
   ]
  },
  {
   "cell_type": "code",
   "execution_count": 34,
   "metadata": {
    "collapsed": false
   },
   "outputs": [],
   "source": [
    "mdf.to_csv('/Users/ballanr/Desktop/File Outputs/Brackett Decrements/Superfuntestfile.csv',index=False)"
   ]
  },
  {
   "cell_type": "code",
   "execution_count": null,
   "metadata": {
    "collapsed": true
   },
   "outputs": [],
   "source": []
  },
  {
   "cell_type": "code",
   "execution_count": 35,
   "metadata": {
    "collapsed": true
   },
   "outputs": [],
   "source": [
    "allfile = '/Users/ballanr/Desktop/File Outputs/Brackett Decrements/Superfuntestfile.csv'\n",
    "openallfile = pd.read_csv(allfile)"
   ]
  },
  {
   "cell_type": "code",
   "execution_count": 36,
   "metadata": {
    "collapsed": false
   },
   "outputs": [],
   "source": [
    "resid = []\n",
    "for i in range(len(cols)):\n",
    "    \n",
    "    A = openallfile[cols[i]]\n",
    "    b = [1,1.024178045,0.767604629,0.84560514,0.491509042,0.448962594,0.365232136,0.314040915,0.214283097,0.163918628]\n",
    "    \n",
    "    A = A / A[0]\n",
    "    \n",
    "    r = b - A\n",
    "    \n",
    "    r2 = 0\n",
    "    \n",
    "    for k in range(len(r)):\n",
    "        \n",
    "        r2 += (r[k])**2\n",
    "    \n",
    "    r2 = np.sqrt(r2)\n",
    "    resid.append((i,r2))"
   ]
  },
  {
   "cell_type": "code",
   "execution_count": 37,
   "metadata": {
    "collapsed": false
   },
   "outputs": [
    {
     "data": {
      "text/plain": [
       "161"
      ]
     },
     "execution_count": 37,
     "metadata": {},
     "output_type": "execute_result"
    }
   ],
   "source": [
    "len(resid)"
   ]
  },
  {
   "cell_type": "code",
   "execution_count": 38,
   "metadata": {
    "collapsed": false
   },
   "outputs": [],
   "source": [
    "x = min(b for (a,b) in resid)"
   ]
  },
  {
   "cell_type": "code",
   "execution_count": 51,
   "metadata": {
    "collapsed": false
   },
   "outputs": [],
   "source": [
    "y=np.where(resid == x)"
   ]
  },
  {
   "cell_type": "code",
   "execution_count": 53,
   "metadata": {
    "collapsed": false
   },
   "outputs": [
    {
     "data": {
      "text/plain": [
       "'12.2/5000'"
      ]
     },
     "execution_count": 53,
     "metadata": {},
     "output_type": "execute_result"
    }
   ],
   "source": [
    "cols[y[0][0]]"
   ]
  },
  {
   "cell_type": "code",
   "execution_count": 40,
   "metadata": {
    "collapsed": false
   },
   "outputs": [
    {
     "data": {
      "text/plain": [
       "(148, 0.28187426601190224)"
      ]
     },
     "execution_count": 40,
     "metadata": {},
     "output_type": "execute_result"
    }
   ],
   "source": [
    "resid[148]"
   ]
  },
  {
   "cell_type": "code",
   "execution_count": 50,
   "metadata": {
    "collapsed": false
   },
   "outputs": [
    {
     "data": {
      "text/plain": [
       "'12.2/5000'"
      ]
     },
     "execution_count": 50,
     "metadata": {},
     "output_type": "execute_result"
    }
   ],
   "source": [
    "cols[148]"
   ]
  },
  {
   "cell_type": "code",
   "execution_count": 2,
   "metadata": {
    "collapsed": true
   },
   "outputs": [],
   "source": [
    "import matplotlib.pyplot as plt\n",
    "from astropy.io import fits"
   ]
  },
  {
   "cell_type": "code",
   "execution_count": 12,
   "metadata": {
    "collapsed": false
   },
   "outputs": [],
   "source": [
    "plate = '9246'\n",
    "mjd = '57650'\n",
    "fiber = '291'\n",
    "filename1 = '/Volumes/CoveyData/APOGEE_Spectra/preDR15/apogee/spectro/redux/visits/apo25m/'+plate+'/'+mjd+'/apVisit-apogee2-'+plate+'-'+mjd+'-'+fiber+'.fits'\n",
    "#filename1 = '/Volumes/CoveyData/APOGEE_Spectra/preDR15/apogee/spectro/redux/visits/lco25m/'+plate+'/'+mjd+'/asVisit-apogee2-'+plate+'-'+mjd+'-'+fiber+'.fits'\n",
    "openfile = fits.open(filename1)\n",
    "wave = openfile[4]\n",
    "flux = openfile[1]\n",
    "error = openfile[2]"
   ]
  },
  {
   "cell_type": "code",
   "execution_count": 13,
   "metadata": {
    "collapsed": true
   },
   "outputs": [],
   "source": [
    "x1 = wave.data[0]\n",
    "x2 = wave.data[1]\n",
    "x3 = wave.data[2]\n",
    "y1 = flux.data[0]\n",
    "y2 = flux.data[1]\n",
    "y3 = flux.data[2]\n",
    "z1 = error.data[0]\n",
    "z2 = error.data[1]\n",
    "z3 = error.data[2]"
   ]
  },
  {
   "cell_type": "code",
   "execution_count": 27,
   "metadata": {
    "collapsed": false
   },
   "outputs": [
    {
     "data": {
      "image/png": "[encoded data removed]",
      "text/plain": [
       "<matplotlib.figure.Figure at 0x11db7ea90>"
      ]
     },
     "metadata": {},
     "output_type": "display_data"
    }
   ],
   "source": [
    "plt.figure(figsize=(20,10));\n",
    "plt.errorbar(x1,y1,yerr=z1,color=color2,ecolor='red');\n",
    "plt.errorbar(x2,y2,yerr=z2,color=color2,ecolor='red');\n",
    "plt.errorbar(x3,y3,yerr=z3,color=color2,ecolor='red');\n",
    "plt.title(plate+'-'+mjd+'-'+fiber,fontsize=20);\n",
    "#plt.xlim(16700,16900)\n",
    "#plt.savefig('/Users/ballanr/Desktop/Odd Spectra.pdf',bbox_to_inches='tight',dpi=300)\n",
    "plt.xlim(16770,16850);\n",
    "plt.ylim(0,15000)\n",
    "plt.show();"
   ]
  },
  {
   "cell_type": "code",
   "execution_count": 26,
   "metadata": {
    "collapsed": false
   },
   "outputs": [],
   "source": [
    "color2 = (31/255.,119/255.,180/255.)"
   ]
  },
  {
   "cell_type": "code",
   "execution_count": null,
   "metadata": {
    "collapsed": true
   },
   "outputs": [],
   "source": []
  },
  {
   "cell_type": "code",
   "execution_count": null,
   "metadata": {
    "collapsed": true
   },
   "outputs": [],
   "source": []
  },
  {
   "cell_type": "code",
   "execution_count": null,
   "metadata": {
    "collapsed": true
   },
   "outputs": [],
   "source": []
  },
  {
   "cell_type": "code",
   "execution_count": null,
   "metadata": {
    "collapsed": true
   },
   "outputs": [],
   "source": []
  }
 ],
 "metadata": {
  "kernelspec": {
   "display_name": "Python 3",
   "language": "python",
   "name": "python3"
  },
  "language_info": {
   "codemirror_mode": {
    "name": "ipython",
    "version": 3
   },
   "file_extension": ".py",
   "mimetype": "text/x-python",
   "name": "python",
   "nbconvert_exporter": "python",
   "pygments_lexer": "ipython3",
   "version": "3.6.0"
  }
 },
 "nbformat": 4,
 "nbformat_minor": 2
}
