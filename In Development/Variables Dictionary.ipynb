{
 "cells": [
  {
   "cell_type": "markdown",
   "metadata": {},
   "source": [
    "# Variables Dictionary"
   ]
  },
  {
   "cell_type": "code",
   "execution_count": 1,
   "metadata": {
    "collapsed": true
   },
   "outputs": [],
   "source": [
    "from astropy.io import fits"
   ]
  },
  {
   "cell_type": "code",
   "execution_count": 2,
   "metadata": {
    "collapsed": true
   },
   "outputs": [],
   "source": [
    "header = fits.open('/Volumes/CoveyData/APOGEE_Spectra/python_DR13/dr13/apogee/spectro/redux/r6/apo25m/6218/56168/apVisit-r6-6218-56168-148.fits')"
   ]
  },
  {
   "cell_type": "code",
   "execution_count": 8,
   "metadata": {
    "collapsed": true
   },
   "outputs": [
    {
     "data": {
      "text/plain": [
       "SIMPLE  =                    T /image conforms to FITS standard                 \n",
       "BITPIX  =                   16 /bits per data value                             \n",
       "NAXIS   =                    0 /number of axes                                  \n",
       "EXTEND  =                    T /file may contain extensions                     \n",
       "DATE    = '2015-07-13'         / Creation UTC (CCCC-MM-DD) date of FITS header  \n",
       "COMMENT FITS (Flexible Image Transport System) format is defined in 'Astronomy  \n",
       "COMMENT and Astrophysics', volume 376, page 359; bibcode 2001A&A...376..359H    \n",
       "LOCID   =                 4586 /Location ID of field                            \n",
       "PLATE   = '6218    '           /Plate ID                                        \n",
       "TELESCOP= 'apo25m  '           /Telescope                                       \n",
       "MJD5    =                56168 /MJD of observation                              \n",
       "FIBERID =                  148 / APOGEE Fiber ID 1-300                          \n",
       "DATE-OBS= '2012-08-29T10:01:22.563' /                                           \n",
       "EXPTIME =              2002.04 /Total visit exptime per dither pos              \n",
       "JD-MID  =        2456168.94094 / JD at midpoint of visit                        \n",
       "UT-MID  = '2012-08-29T10:34:57.2' / Date at midpoint of visit                   \n",
       "NCOMBINE=                    8 /                                                \n",
       "FRAME1  =              6060064 /Constituent frame                               \n",
       "FRAME2  =              6060061 /Constituent frame                               \n",
       "FRAME3  =              6060063 /Constituent frame                               \n",
       "FRAME4  =              6060065 /Constituent frame                               \n",
       "FRAME5  =              6060060 /Constituent frame                               \n",
       "FRAME6  =              6060062 /Constituent frame                               \n",
       "FRAME7  =              6060059 /Constituent frame                               \n",
       "FRAME8  =              6060058 /Constituent frame                               \n",
       "NPAIRS  = '4       '           / Number of dither pairs combined                \n",
       "OBJID   = '2M03434449+3143092' / Object ID                                      \n",
       "OBJTYPE = 'STAR    '           / Object type                                    \n",
       "AKMETHOD= 'NONE    '           / Extinction method                              \n",
       "RA      =        55.9353880000 / targeting right ascension, deg, J2000          \n",
       "DEC     =        31.7192310000 / targeting declination, deg, J2000              \n",
       "J       =              12.3230 / 2MASS J magnitude                              \n",
       "H       =              10.7850 / 2MASS H magnitude                              \n",
       "K       =              9.53800 / 2MASS Ks magnitude                             \n",
       "SNR     =              87.6040 / median S/N, middle chip                        \n",
       "TARG1   =          -2147352576 / First APOGEE targeting flag (bitwise, see docs)\n",
       "TARG2   =          -2147475456 / Second APOGEE targeting flag (bitwise, see docs\n",
       "HPLUS   =              2.82700 / Delta H (neigh-obj) mag of neighboring (+1) fib\n",
       "HMINUS  =            -0.264000 / Delta H (neigh-obj) mag of neighboring (-1) fib\n",
       "STARFLAG=                    0 / Star data quality flag                         \n",
       "FLUXFLAM=          7.76393E-19 / ADU to flux units conv factor (ergs/s/cm^2/A)  \n",
       "V_APRED = 'v3_15   '           /apogeereduce software version                   \n",
       "HISTORY AP1DVISIT: Mon Jul 13 13:29:39 2015                                     \n",
       "HISTORY AP1DVISIT: apogee on kp125                                              \n",
       "HISTORY AP1DVISIT:  APOGEE Reduction Pipeline Version: v3_15                    \n",
       "HISTORY AP1DVISIT: IDL 8.1 linux x86_64                                         \n",
       "HISTORY AP1DVISIT: The data for the individual visit spectrum are in            \n",
       "HISTORY AP1DVISIT:   separate extensions.  All HDUs have data for each chip in  \n",
       "HISTORY AP1DVISIT:   a separate row (i.e. 4096x3) except for Wavelength and LSF \n",
       "HISTORY AP1DVISIT:  HDU0 = Header only                                          \n",
       "HISTORY AP1DVISIT:  HDU1 - Flux (10^-17 ergs/s/cm^2/Ang)                        \n",
       "HISTORY AP1DVISIT:  HDU2 - Error (10^-17 ergs/s/cm^2/Ang)                       \n",
       "HISTORY AP1DVISIT:  HDU3 - Flag mask (bitwise OR combined)                      \n",
       "HISTORY AP1DVISIT:  HDU4 - Wavelength (Ang)                                     \n",
       "HISTORY AP1DVISIT:  HDU5 - Sky (10^-17 ergs/s/cm^2/Ang)                         \n",
       "HISTORY AP1DVISIT:  HDU6 - Sky Error (10^-17 ergs/s/cm^2/Ang)                   \n",
       "HISTORY AP1DVISIT:  HDU7 - Telluric                                             \n",
       "HISTORY AP1DVISIT:  HDU8 - Telluric Error                                       \n",
       "HISTORY AP1DVISIT:  HDU9 - Wavelength coefficients                              \n",
       "HISTORY AP1DVISIT:  HDU10 - LSF coefficients                                    \n",
       "LONGSTRN= 'OGIP 1.0'           / The OGIP long string convention may be used.   \n",
       "COMMENT  This FITS file may contain long string keyword values that are         \n",
       "COMMENT  continued over multiple keywords.  This convention uses the  '&'       \n",
       "COMMENT  character at the end of a string which is then continued               \n",
       "COMMENT  on subsequent keywords whose name = 'CONTINUE'.                        \n",
       "SYNTHFIL= '/uufs/chpc.utah.edu/common/home/sdss01/software/apogee/Linux/apogee&'\n",
       "CONTINUE  'reduce/v3_15/lib/synthgrid/apg_rvsynthgrid.fits'                     \n",
       "JD      =        2456168.91762 /                                                \n",
       "HJD     =        56168.9414806 / Reduced Heliocentric JD                        \n",
       "GLON    =        160.647679813 / degrees                                        \n",
       "GLAT    =       -18.2553236108 / degrees                                        \n",
       "BC      =        28.8467637135 / barycentric correction (km/s)                  \n",
       "VTYPE   =                    2 / RV type (1=chisq, 2=xcorr)                     \n",
       "VRAD    =              680.570 / doppler shift (km/s)                           \n",
       "VRADERR =              0.00000 / VRAD error (km/s)                              \n",
       "VSCATTER=              40.6141 / km/s                                           \n",
       "VHELIO  =        709.417015178 / heliocentric velocity (km/s)                   \n",
       "VLSR    =        699.863037448 / LSR velocity (km/s)                            \n",
       "VGSR    =        769.096585325 / GSR velocity (km/s)                            \n",
       "RVTEFF  =              15000.0 / Teff (K) from mini-grid x correlation          \n",
       "RVLOGG  =              3.00000 / logg (dex) from mini-grid x correlation        \n",
       "RVFEH   =            -0.340000 / [Fe/H] from mini-grid x correlation            \n",
       "RVALPH  =              99.9000 / [alpha/H] from mini-grid x correlation         \n",
       "RVCARB  =              99.9000 / [C/H] from mini-grid x correlation             \n",
       "XSHIFT  =              206.000 / pixel shift                                    \n",
       "CCPEAK  =           0.00543610 / cross-corr peak                                \n",
       "CCPFWHM =              78.4497 / cross-corr peak FWHM                           \n",
       "CHISQ   =              8.42511 / Chi Squared                                    \n",
       "HISTORY APRV APOGEE Reduction Pipeline Version: v3_15                           \n",
       "HISTORY APRV Update on Mon Jul 13 13:51:23 2015                                 \n",
       "HISTORY APRV apogee on kp125                                                    "
      ]
     },
     "execution_count": 8,
     "metadata": {},
     "output_type": "execute_result"
    }
   ],
   "source": [
    "header[0].header"
   ]
  },
  {
   "cell_type": "code",
   "execution_count": 9,
   "metadata": {
    "collapsed": true
   },
   "outputs": [],
   "source": [
    "import os"
   ]
  },
  {
   "cell_type": "code",
   "execution_count": 16,
   "metadata": {
    "collapsed": true
   },
   "outputs": [],
   "source": [
    "server = '/Volumes/CoveyData/APOGEE_Spectra/python_DR13/dr13/apogee/spectro/redux/r6/apo25m/'\n",
    "plate = str(6218)\n",
    "MJD = str(56168)\n",
    "fiber = str(148)\n",
    "therest = 'apVisit-r6-'\n",
    "dashes = '-'\n",
    "fits = '.fits'"
   ]
  },
  {
   "cell_type": "code",
   "execution_count": 18,
   "metadata": {
    "collapsed": false
   },
   "outputs": [
    {
     "name": "stdout",
     "output_type": "stream",
     "text": [
      "/Volumes/CoveyData/APOGEE_Spectra/python_DR13/dr13/apogee/spectro/redux/r6/apo25m/6218/56168/apVisit-r6-\n"
     ]
    }
   ],
   "source": [
    "filename = os.path.join(server,plate,MJD,therest)\n",
    "print(filename)"
   ]
  },
  {
   "cell_type": "code",
   "execution_count": 20,
   "metadata": {
    "collapsed": false
   },
   "outputs": [
    {
     "name": "stdout",
     "output_type": "stream",
     "text": [
      "/Volumes/CoveyData/APOGEE_Spectra/python_DR13/dr13/apogee/spectro/redux/r6/apo25m/6218/56168/apVisit-r6-6218-56168-148.fits\n"
     ]
    }
   ],
   "source": [
    "file = filename + plate + '-' + MJD + '-' + fiber + fits\n",
    "print(file)"
   ]
  },
  {
   "cell_type": "code",
   "execution_count": 22,
   "metadata": {
    "collapsed": false
   },
   "outputs": [
    {
     "data": {
      "text/plain": [
       "str"
      ]
     },
     "execution_count": 22,
     "metadata": {},
     "output_type": "execute_result"
    }
   ],
   "source": [
    "type(\n",
    "    '/Volumes/CoveyData/APOGEE_Spectra/python_DR13/dr13/apogee/spectro/redux/r6/apo25m/6218/56168/apVisit-r6-6218-56168-148.fits'\n",
    "       )"
   ]
  },
  {
   "cell_type": "code",
   "execution_count": null,
   "metadata": {
    "collapsed": true
   },
   "outputs": [],
   "source": [
    "/Volumes/CoveyData/APOGEE_Spectra/python_DR13/dr13/apogee/spectro/redux/r6/apo25m/6218/56168/apVisit-r6-6218-56168-148.fits"
   ]
  }
 ],
 "metadata": {
  "kernelspec": {
   "display_name": "Python 3",
   "language": "python",
   "name": "python3"
  },
  "language_info": {
   "codemirror_mode": {
    "name": "ipython",
    "version": 3
   },
   "file_extension": ".py",
   "mimetype": "text/x-python",
   "name": "python",
   "nbconvert_exporter": "python",
   "pygments_lexer": "ipython3",
   "version": "3.6.0"
  }
 },
 "nbformat": 4,
 "nbformat_minor": 2
}
