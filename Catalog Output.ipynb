{
 "cells": [
  {
   "cell_type": "markdown",
   "metadata": {},
   "source": [
    "# Catalog Output"
   ]
  },
  {
   "cell_type": "code",
   "execution_count": 4,
   "metadata": {
    "collapsed": true
   },
   "outputs": [],
   "source": [
    "import apogee.tools.read as apread\n",
    "import apogee.spec.plot as splot\n",
    "import numpy as np\n",
    "import matplotlib.pyplot as plt\n",
    "%matplotlib inline\n",
    "Lambda = splot.apStarWavegrid()\n",
    "import csv\n",
    "import sys"
   ]
  },
  {
   "cell_type": "markdown",
   "metadata": {},
   "source": [
    "### Calculations and Definitions"
   ]
  },
  {
   "cell_type": "code",
   "execution_count": null,
   "metadata": {
    "collapsed": true
   },
   "outputs": [],
   "source": [
    "def find_nearest(array,value):\n",
    "    index = (np.abs(array-value)).argmin()\n",
    "    #return array[index]\n",
    "    return index"
   ]
  },
  {
   "cell_type": "code",
   "execution_count": null,
   "metadata": {
    "collapsed": true
   },
   "outputs": [],
   "source": [
    "def Equiv_Width(loc_id,twomass_id):\n",
    "    \n",
    "    \n",
    "    #given a certain spec\n",
    "    spec_header = apread.apStar(loc_id,twomass_id,ext=0,header=True)\n",
    "    spec_noheader = apread.apStar(loc_id,twomass_id,ext=1,header=False)\n",
    "    nvisits = spec_header[1]['NVISITS']\n",
    "    EqW_array = []\n",
    "    \n",
    "    #calculate the emission line in a vacuum\n",
    "    vhelio = spec_header[1]['VHELIO']\n",
    "\n",
    "    c = 299792\n",
    "    rydberg = 1.0973731568539*(10**7)\n",
    "    electron = 9.10938356*(10**-31)\n",
    "    nucleus = 1.672621898*(10**-27)\n",
    "    fracryd = rydberg/(1+(electron/nucleus))\n",
    "    vacuum = fracryd*((1./16.)-(1./121.))\n",
    "    lambda_obs = 1/vacuum\n",
    "    calculated_point1 = lambda_obs*(1+(-vhelio/c))\n",
    "    calculated_point2 = calculated_point1*(10**10)\n",
    "    \n",
    "    \n",
    "    \n",
    "    #EqW Calculations\n",
    "    for i in range(nvisits):\n",
    "        spec = spec_noheader[2 + i]\n",
    "    \n",
    "        centerline = find_nearest(Lambda,calculated_point2)\n",
    "        L1 = centerline - 90\n",
    "        L2 = centerline - 45\n",
    "        R1 = centerline + 45\n",
    "        R2 = centerline + 90\n",
    "        #generic continuum lines 35 elements wide \n",
    "        lsum= np.sum(spec[L1:L2])/ len(spec[L1:L2])\n",
    "        rsum = np.sum(spec[R1:R2])/len(spec[R1:R2])\n",
    "        Fc= (lsum+rsum)/2\n",
    "    \n",
    "        EqW=0\n",
    "        \n",
    "        for i in range(L2,R1):\n",
    "            summ=(Fc*(Lambda[i+1]-Lambda[i]))-((1./2.)*(Lambda[i+1]-Lambda[i])*(spec[i+1]+spec[i]))\n",
    "            EqW = EqW + summ\n",
    "        EqW = abs(EqW/Fc)\n",
    "        EqW_array.append(EqW)\n",
    "        \n",
    "    #Error Calculations\n",
    "    Single_StD=[]\n",
    "    avg=np.mean(EqW_array)\n",
    "\n",
    "    for i in EqW_array:\n",
    "        squared = (i - avg)**2\n",
    "        final=np.sqrt(squared/len(x))\n",
    "        Single_StD.append(final)\n",
    "    \n",
    "    \n",
    "    StD_avg = np.std(EqW_array)\n",
    "    EqW_avg = np.median(EqW_array)\n",
    "    \n",
    "    return StD_avg,EqW_avg,EqW_array,Single_StD,nvisits"
   ]
  },
  {
   "cell_type": "markdown",
   "metadata": {},
   "source": [
    "### Output"
   ]
  },
  {
   "cell_type": "code",
   "execution_count": null,
   "metadata": {
    "collapsed": true
   },
   "outputs": [],
   "source": [
    "def All_Outputs(csvname,allsavefile,avgsavefile):\n",
    "    \n",
    "    #INPUT\n",
    "    with open(csvname) as csvfile:\n",
    "        readCSV = csv.reader(csvfile,delimiter=',')\n",
    "    \n",
    "        for row in readCSV:\n",
    "            loc_id=readCSV[1]\n",
    "            twomass_id=readCSV[0]\n",
    "            Equiv_Width(loc_id,twomass_id)\n",
    "            \n",
    "            for i in range(len(nvisits)):\n",
    "                all_list.append(loc_id,twomass_id,i+1,EqW_array[i],Single_StD[i])\n",
    "            avg_list.append(loc_id,twomass_id,nvisits,EqW_avg,StD_avg)\n",
    "            \n",
    "    #OUTPUT\n",
    "    f = open(allsavefile, 'w')\n",
    "    try:\n",
    "        writer = csv.writer(f,delimiter='\\t',lineterminator='\\n\\n')\n",
    "        for i in range(len(all_list)):\n",
    "            writer.writerow(all_list[i][0],all_list[i][1],all_list[i][2],all_list[i][3],all_list[i][4])\n",
    "    finally:\n",
    "        f.close()\n",
    "    \n",
    "    g = open(avgsavefile, 'w')\n",
    "    try:\n",
    "        writer = csv.writer(g,delimiter='\\t',lineterminator='\\n\\n')\n",
    "        for i in range(len(avg_list)):\n",
    "            writer.writerow(avg_list[i][0],avg_list[i][1],avg_list[i][2],avg_list[i][3],avg_list[i][4])\n",
    "    finally:\n",
    "        g.close()"
   ]
  },
  {
   "cell_type": "code",
   "execution_count": 19,
   "metadata": {
    "collapsed": true
   },
   "outputs": [],
   "source": [
    "x=[1,2,3,4,5,6,7,8,9,10]"
   ]
  },
  {
   "cell_type": "code",
   "execution_count": 20,
   "metadata": {
    "collapsed": false
   },
   "outputs": [
    {
     "data": {
      "text/plain": [
       "2.8722813232690143"
      ]
     },
     "execution_count": 20,
     "metadata": {},
     "output_type": "execute_result"
    }
   ],
   "source": [
    "np.std(x)"
   ]
  },
  {
   "cell_type": "code",
   "execution_count": 45,
   "metadata": {
    "collapsed": false
   },
   "outputs": [
    {
     "data": {
      "text/plain": [
       "5.5"
      ]
     },
     "execution_count": 45,
     "metadata": {},
     "output_type": "execute_result"
    }
   ],
   "source": [
    "avg=np.mean(x)\n",
    "avg"
   ]
  },
  {
   "cell_type": "code",
   "execution_count": 48,
   "metadata": {
    "collapsed": false
   },
   "outputs": [],
   "source": [
    "single_std=[]\n",
    "avg=np.mean(x)\n",
    "\n",
    "for i in x:\n",
    "    squared = (i - avg)**2\n",
    "    final=np.sqrt(squared/len(x))\n",
    "    single_std.append(final)\n"
   ]
  },
  {
   "cell_type": "code",
   "execution_count": 49,
   "metadata": {
    "collapsed": false
   },
   "outputs": [
    {
     "data": {
      "text/plain": [
       "[1.4230249470757708,\n",
       " 1.1067971810589328,\n",
       " 0.79056941504209488,\n",
       " 0.47434164902525688,\n",
       " 0.15811388300841897,\n",
       " 0.15811388300841897,\n",
       " 0.47434164902525688,\n",
       " 0.79056941504209488,\n",
       " 1.1067971810589328,\n",
       " 1.4230249470757708]"
      ]
     },
     "execution_count": 49,
     "metadata": {},
     "output_type": "execute_result"
    }
   ],
   "source": [
    "single_std"
   ]
  },
  {
   "cell_type": "code",
   "execution_count": null,
   "metadata": {
    "collapsed": true
   },
   "outputs": [],
   "source": []
  }
 ],
 "metadata": {
  "kernelspec": {
   "display_name": "Python 3",
   "language": "python",
   "name": "python3"
  },
  "language_info": {
   "codemirror_mode": {
    "name": "ipython",
    "version": 3
   },
   "file_extension": ".py",
   "mimetype": "text/x-python",
   "name": "python",
   "nbconvert_exporter": "python",
   "pygments_lexer": "ipython3",
   "version": "3.6.0"
  }
 },
 "nbformat": 4,
 "nbformat_minor": 2
}
